{
 "cells": [
  {
   "cell_type": "markdown",
   "metadata": {
    "id": "3HqK14JLSStR"
   },
   "source": [
    "# CS224N Assignment 1: Exploring Word Vectors (25 Points)\n",
    "### <font color='blue'> Due 4:30pm, Tue April 9th 2024</font>\n",
    "\n",
    "Welcome to CS224N! \n",
    "\n",
    "Before you start, make sure you **read the README.md** in the same directory as this notebook for important setup information. You need to install some Python libraries before you can successfully do this assignment. A lot of code is provided in this notebook, and we highly encourage you to read and understand it as part of the learning :)\n",
    "\n",
    "If you aren't super familiar with Python, Numpy, or Matplotlib, we recommend you check out the review session on Friday. The session will be recorded and the material will be made available on our [website](http://web.stanford.edu/class/cs224n/index.html#schedule). The CS231N Python/Numpy [tutorial](https://cs231n.github.io/python-numpy-tutorial/) is also a great resource.\n",
    "\n",
    "\n",
    "**Assignment Notes:** Please make sure to save the notebook as you go along. Submission Instructions are located at the bottom of the notebook."
   ]
  },
  {
   "cell_type": "code",
<<<<<<< HEAD
   "execution_count": 14,
=======
   "execution_count": 5,
>>>>>>> d6e8e0f051804e1e39ed8606d1224fa7a47ec846
   "metadata": {
    "ExecuteTime": {
     "end_time": "2024-03-27T08:04:19.343709Z",
     "start_time": "2024-03-27T08:04:15.222676Z"
    },
    "colab": {
     "base_uri": "https://localhost:8080/"
    },
    "id": "8AGQxROrSStf",
    "outputId": "45390a52-8c82-466d-dcf3-d5b355f14aa4"
   },
   "outputs": [],
   "source": [
    "# All Import Statements Defined Here\n",
    "# Note: Do not add to this list.\n",
    "# ----------------\n",
    "\n",
    "import sys\n",
    "assert sys.version_info[0] == 3\n",
    "assert sys.version_info[1] >= 8\n",
    "\n",
    "from platform import python_version\n",
    "assert int(python_version().split(\".\")[1]) >= 5, \"Please upgrade your Python version following the instructions in \\\n",
    "    the README.md file found in the same directory as this notebook. Your Python version is \" + python_version()\n",
    "\n",
    "from gensim.models import KeyedVectors\n",
    "from gensim.test.utils import datapath\n",
    "import pprint\n",
    "import matplotlib.pyplot as plt\n",
    "plt.rcParams['figure.figsize'] = [10, 5]\n",
    "\n",
    "from datasets import load_dataset\n",
    "imdb_dataset = load_dataset(\"stanfordnlp/imdb\", \"plain_text\")\n",
    "\n",
    "import re\n",
    "import numpy as np\n",
    "import random\n",
    "import scipy as sp\n",
    "from sklearn.decomposition import TruncatedSVD\n",
    "from sklearn.decomposition import PCA\n",
    "\n",
    "START_TOKEN = '<START>'\n",
    "END_TOKEN = '<END>'\n",
    "NUM_SAMPLES = 150\n",
    "\n",
    "np.random.seed(0)\n",
    "random.seed(0)\n",
    "# ----------------\n",
    "from IPython.core.interactiveshell import InteractiveShell \n",
    "InteractiveShell.ast_node_interactivity = \"all\""
   ]
  },
  {
   "cell_type": "markdown",
   "metadata": {
    "id": "SICd5IedSSto"
   },
   "source": [
    "## Word Vectors\n",
    "\n",
    "Word Vectors are often used as a fundamental component for downstream NLP tasks, e.g. question answering, text generation, translation, etc., so it is important to build some intuitions as to their strengths and weaknesses. Here, you will explore two types of word vectors: those derived from *co-occurrence matrices*, and those derived via *GloVe*. \n",
    "\n",
    "**Note on Terminology:** The terms \"word vectors\" and \"word embeddings\" are often used interchangeably. The term \"embedding\" refers to the fact that we are encoding aspects of a word's meaning in a lower dimensional space. As [Wikipedia](https://en.wikipedia.org/wiki/Word_embedding) states, \"*conceptually it involves a mathematical embedding from a space with one dimension per word to a continuous vector space with a much lower dimension*\"."
   ]
  },
  {
   "cell_type": "markdown",
   "metadata": {
    "id": "6Eug6AVrSStr"
   },
   "source": [
    "## Part 1: Count-Based Word Vectors (10 points)\n",
    "\n",
    "Most word vector models start from the following idea:\n",
    "\n",
    "*You shall know a word by the company it keeps ([Firth, J. R. 1957:11](https://en.wikipedia.org/wiki/John_Rupert_Firth))*\n",
    "\n",
    "Many word vector implementations are driven by the idea that similar words, i.e., (near) synonyms, will be used in similar contexts. As a result, similar words will often be spoken or written along with a shared subset of words, i.e., contexts. By examining these contexts, we can try to develop embeddings for our words. With this intuition in mind, many \"old school\" approaches to constructing word vectors relied on word counts. Here we elaborate upon one of those strategies, *co-occurrence matrices* (for more information, see [here](https://web.stanford.edu/~jurafsky/slp3/6.pdf) or [here](https://web.archive.org/web/20190530091127/https://medium.com/data-science-group-iitr/word-embedding-2d05d270b285))."
   ]
  },
  {
   "cell_type": "markdown",
   "metadata": {
    "id": "L6uQ9-DVSSts"
   },
   "source": [
    "### Co-Occurrence\n",
    "\n",
    "A co-occurrence matrix counts how often things co-occur in some environment. Given some word $w_i$ occurring in the document, we consider the *context window* surrounding $w_i$. Supposing our fixed window size is $n$, then this is the $n$ preceding and $n$ subsequent words in that document, i.e. words $w_{i-n} \\dots w_{i-1}$ and $w_{i+1} \\dots w_{i+n}$. We build a *co-occurrence matrix* $M$, which is a symmetric word-by-word matrix in which $M_{ij}$ is the number of times $w_j$ appears inside $w_i$'s window among all documents.\n",
    "\n",
    "**Example: Co-Occurrence with Fixed Window of n=1**:\n",
    "\n",
    "Document 1: \"all that glitters is not gold\"\n",
    "\n",
    "Document 2: \"all is well that ends well\"\n",
    "\n",
    "\n",
    "|     *    | `<START>` | all | that | glitters | is   | not  | gold  | well | ends | `<END>` |\n",
    "|----------|-------|-----|------|----------|------|------|-------|------|------|-----|\n",
    "| `<START>`    | 0     | 2   | 0    | 0        | 0    | 0    | 0     | 0    | 0    | 0   |\n",
    "| all      | 2     | 0   | 1    | 0        | 1    | 0    | 0     | 0    | 0    | 0   |\n",
    "| that     | 0     | 1   | 0    | 1        | 0    | 0    | 0     | 1    | 1    | 0   |\n",
    "| glitters | 0     | 0   | 1    | 0        | 1    | 0    | 0     | 0    | 0    | 0   |\n",
    "| is       | 0     | 1   | 0    | 1        | 0    | 1    | 0     | 1    | 0    | 0   |\n",
    "| not      | 0     | 0   | 0    | 0        | 1    | 0    | 1     | 0    | 0    | 0   |\n",
    "| gold     | 0     | 0   | 0    | 0        | 0    | 1    | 0     | 0    | 0    | 1   |\n",
    "| well     | 0     | 0   | 1    | 0        | 1    | 0    | 0     | 0    | 1    | 1   |\n",
    "| ends     | 0     | 0   | 1    | 0        | 0    | 0    | 0     | 1    | 0    | 0   |\n",
    "| `<END>`      | 0     | 0   | 0    | 0        | 0    | 0    | 1     | 1    | 0    | 0   |\n",
    "\n",
    "In NLP, we commonly use `<START>` and `<END>` tokens to mark the beginning and end of sentences, paragraphs, or documents. These tokens are included in co-occurrence counts, encapsulating each document, for example: \"`<START>` All that glitters is not gold `<END>`\".\n",
    "\n",
    "The matrix rows (or columns) provide word vectors based on word-word co-occurrence, but they can be large. To reduce dimensionality, we employ Singular Value Decomposition (SVD), akin to PCA, selecting the top $k$ principal components. The SVD process decomposes the co-occurrence matrix $A$ into singular values in the diagonal $S$ matrix and new, shorter word vectors in $U_k$.\n",
    "\n",
    "This dimensionality reduction maintains semantic relationships; for instance, *doctor* and *hospital* will be closer than *doctor* and *dog*.\n",
    "\n",
    "For those unfamiliar with eigenvalues and SVD, a beginner-friendly introduction to SVD is available [here](https://davetang.org/file/Singular_Value_Decomposition_Tutorial.pdf). Additional resources for in-depth understanding include lectures [7](https://web.stanford.edu/class/cs168/l/l7.pdf), [8](http://theory.stanford.edu/~tim/s15/l/l8.pdf), and [9](https://web.stanford.edu/class/cs168/l/l9.pdf) of CS168, providing high-level treatment of these algorithms. For practical implementation, utilizing pre-programmed functions from Python packages like numpy, scipy, or sklearn is recommended. While applying full SVD to large corpora can be memory-intensive, scalable techniques such as Truncated SVD exist for extracting the top $k$ vector components efficiently."
   ]
  },
  {
   "cell_type": "markdown",
   "metadata": {
    "id": "7IKeK4xtSStv"
   },
   "source": [
    "### Plotting Co-Occurrence Word Embeddings\n",
    "\n",
    "Here, we will be using the Large Movie Review Dataset. This is a dataset for binary sentiment classification containing substantially more data than previous benchmark datasets. We provide a set of 25,000 highly polar movie reviews for training, and 25,000 for testing. There is additional unlabeled data for use as well. We provide a `read_corpus` function below that pulls out the text of a movie review from the dataset. The function also adds `<START>` and `<END>` tokens to each of the documents, and lowercases words. You do **not** have to perform any other kind of pre-processing."
   ]
  },
  {
   "cell_type": "code",
<<<<<<< HEAD
   "execution_count": 15,
=======
   "execution_count": 37,
>>>>>>> d6e8e0f051804e1e39ed8606d1224fa7a47ec846
   "metadata": {
    "ExecuteTime": {
     "end_time": "2024-03-27T08:06:28.097673Z",
     "start_time": "2024-03-27T08:06:28.094138Z"
    },
    "id": "xwD2htUoSStw"
   },
   "outputs": [],
   "source": [
    "def read_corpus():\n",
    "    \"\"\" Read files from the Large Movie Review Dataset.\n",
    "        Params:\n",
    "            category (string): category name\n",
    "        Return:\n",
    "            list of lists, with words from each of the processed files\n",
    "    \"\"\"\n",
    "    files = imdb_dataset[\"train\"][\"text\"][:NUM_SAMPLES]\n",
    "    # print(len(files),files[0])\n",
    "    return [[START_TOKEN] + [re.sub(r'[^\\w]', '', w.lower()) for w in f.split(\" \")] + [END_TOKEN] for f in files]\n",
    "    # remove non-alphanumeric characters and convert to lowercase"
   ]
  },
  {
   "cell_type": "markdown",
   "metadata": {
    "id": "hVLquFhjSStx"
   },
   "source": [
    "Let's have a look what these documents are like…."
   ]
  },
  {
   "cell_type": "code",
<<<<<<< HEAD
   "execution_count": 16,
=======
   "execution_count": 38,
>>>>>>> d6e8e0f051804e1e39ed8606d1224fa7a47ec846
   "metadata": {
    "ExecuteTime": {
     "end_time": "2024-03-27T08:06:29.881790Z",
     "start_time": "2024-03-27T08:06:29.404708Z"
    },
    "colab": {
     "base_uri": "https://localhost:8080/"
    },
    "id": "mC7B9Cb-SSty",
    "outputId": "a1861c4f-723a-4d99-98d9-5f5db3a92e7a"
   },
   "outputs": [
    {
     "name": "stdout",
     "output_type": "stream",
     "text": [
      "[['<START>', 'i', 'rented', 'i', 'am', 'curiousyellow', 'from', 'my', 'video', 'store', 'because',\n",
      "  'of', 'all', 'the', 'controversy', 'that', 'surrounded', 'it', 'when', 'it', 'was', 'first',\n",
      "  'released', 'in', '1967', 'i', 'also', 'heard', 'that', 'at', 'first', 'it', 'was', 'seized',\n",
      "  'by', 'us', 'customs', 'if', 'it', 'ever', 'tried', 'to', 'enter', 'this', 'country', 'therefore',\n",
      "  'being', 'a', 'fan', 'of', 'films', 'considered', 'controversial', 'i', 'really', 'had', 'to',\n",
      "  'see', 'this', 'for', 'myselfbr', 'br', 'the', 'plot', 'is', 'centered', 'around', 'a', 'young',\n",
      "  'swedish', 'drama', 'student', 'named', 'lena', 'who', 'wants', 'to', 'learn', 'everything',\n",
      "  'she', 'can', 'about', 'life', 'in', 'particular', 'she', 'wants', 'to', 'focus', 'her',\n",
      "  'attentions', 'to', 'making', 'some', 'sort', 'of', 'documentary', 'on', 'what', 'the', 'average',\n",
      "  'swede', 'thought', 'about', 'certain', 'political', 'issues', 'such', 'as', 'the', 'vietnam',\n",
      "  'war', 'and', 'race', 'issues', 'in', 'the', 'united', 'states', 'in', 'between', 'asking',\n",
      "  'politicians', 'and', 'ordinary', 'denizens', 'of', 'stockholm', 'about', 'their', 'opinions',\n",
      "  'on', 'politics', 'she', 'has', 'sex', 'with', 'her', 'drama', 'teacher', 'classmates', 'and',\n",
      "  'married', 'menbr', 'br', 'what', 'kills', 'me', 'about', 'i', 'am', 'curiousyellow', 'is',\n",
      "  'that', '40', 'years', 'ago', 'this', 'was', 'considered', 'pornographic', 'really', 'the', 'sex',\n",
      "  'and', 'nudity', 'scenes', 'are', 'few', 'and', 'far', 'between', 'even', 'then', 'its', 'not',\n",
      "  'shot', 'like', 'some', 'cheaply', 'made', 'porno', 'while', 'my', 'countrymen', 'mind', 'find',\n",
      "  'it', 'shocking', 'in', 'reality', 'sex', 'and', 'nudity', 'are', 'a', 'major', 'staple', 'in',\n",
      "  'swedish', 'cinema', 'even', 'ingmar', 'bergman', 'arguably', 'their', 'answer', 'to', 'good',\n",
      "  'old', 'boy', 'john', 'ford', 'had', 'sex', 'scenes', 'in', 'his', 'filmsbr', 'br', 'i', 'do',\n",
      "  'commend', 'the', 'filmmakers', 'for', 'the', 'fact', 'that', 'any', 'sex', 'shown', 'in', 'the',\n",
      "  'film', 'is', 'shown', 'for', 'artistic', 'purposes', 'rather', 'than', 'just', 'to', 'shock',\n",
      "  'people', 'and', 'make', 'money', 'to', 'be', 'shown', 'in', 'pornographic', 'theaters', 'in',\n",
      "  'america', 'i', 'am', 'curiousyellow', 'is', 'a', 'good', 'film', 'for', 'anyone', 'wanting',\n",
      "  'to', 'study', 'the', 'meat', 'and', 'potatoes', 'no', 'pun', 'intended', 'of', 'swedish',\n",
      "  'cinema', 'but', 'really', 'this', 'film', 'doesnt', 'have', 'much', 'of', 'a', 'plot', '<END>'],\n",
      " ['<START>', 'i', 'am', 'curious', 'yellow', 'is', 'a', 'risible', 'and', 'pretentious', 'steaming',\n",
      "  'pile', 'it', 'doesnt', 'matter', 'what', 'ones', 'political', 'views', 'are', 'because', 'this',\n",
      "  'film', 'can', 'hardly', 'be', 'taken', 'seriously', 'on', 'any', 'level', 'as', 'for', 'the',\n",
      "  'claim', 'that', 'frontal', 'male', 'nudity', 'is', 'an', 'automatic', 'nc17', 'that', 'isnt',\n",
      "  'true', 'ive', 'seen', 'rrated', 'films', 'with', 'male', 'nudity', 'granted', 'they', 'only',\n",
      "  'offer', 'some', 'fleeting', 'views', 'but', 'where', 'are', 'the', 'rrated', 'films', 'with',\n",
      "  'gaping', 'vulvas', 'and', 'flapping', 'labia', 'nowhere', 'because', 'they', 'dont', 'exist',\n",
      "  'the', 'same', 'goes', 'for', 'those', 'crappy', 'cable', 'shows', 'schlongs', 'swinging', 'in',\n",
      "  'the', 'breeze', 'but', 'not', 'a', 'clitoris', 'in', 'sight', 'and', 'those', 'pretentious',\n",
      "  'indie', 'movies', 'like', 'the', 'brown', 'bunny', 'in', 'which', 'were', 'treated', 'to', 'the',\n",
      "  'site', 'of', 'vincent', 'gallos', 'throbbing', 'johnson', 'but', 'not', 'a', 'trace', 'of',\n",
      "  'pink', 'visible', 'on', 'chloe', 'sevigny', 'before', 'crying', 'or', 'implying',\n",
      "  'doublestandard', 'in', 'matters', 'of', 'nudity', 'the', 'mentally', 'obtuse', 'should', 'take',\n",
      "  'into', 'account', 'one', 'unavoidably', 'obvious', 'anatomical', 'difference', 'between', 'men',\n",
      "  'and', 'women', 'there', 'are', 'no', 'genitals', 'on', 'display', 'when', 'actresses', 'appears',\n",
      "  'nude', 'and', 'the', 'same', 'cannot', 'be', 'said', 'for', 'a', 'man', 'in', 'fact', 'you',\n",
      "  'generally', 'wont', 'see', 'female', 'genitals', 'in', 'an', 'american', 'film', 'in',\n",
      "  'anything', 'short', 'of', 'porn', 'or', 'explicit', 'erotica', 'this', 'alleged',\n",
      "  'doublestandard', 'is', 'less', 'a', 'double', 'standard', 'than', 'an', 'admittedly',\n",
      "  'depressing', 'ability', 'to', 'come', 'to', 'terms', 'culturally', 'with', 'the', 'insides',\n",
      "  'of', 'womens', 'bodies', '<END>'],\n",
      " ['<START>', 'if', 'only', 'to', 'avoid', 'making', 'this', 'type', 'of', 'film', 'in', 'the',\n",
      "  'future', 'this', 'film', 'is', 'interesting', 'as', 'an', 'experiment', 'but', 'tells', 'no',\n",
      "  'cogent', 'storybr', 'br', 'one', 'might', 'feel', 'virtuous', 'for', 'sitting', 'thru', 'it',\n",
      "  'because', 'it', 'touches', 'on', 'so', 'many', 'important', 'issues', 'but', 'it', 'does', 'so',\n",
      "  'without', 'any', 'discernable', 'motive', 'the', 'viewer', 'comes', 'away', 'with', 'no', 'new',\n",
      "  'perspectives', 'unless', 'one', 'comes', 'up', 'with', 'one', 'while', 'ones', 'mind', 'wanders',\n",
      "  'as', 'it', 'will', 'invariably', 'do', 'during', 'this', 'pointless', 'filmbr', 'br', 'one',\n",
      "  'might', 'better', 'spend', 'ones', 'time', 'staring', 'out', 'a', 'window', 'at', 'a', 'tree',\n",
      "  'growingbr', 'br', '', '<END>']]\n",
      "corpus size:  290\n"
     ]
    }
   ],
   "source": [
    "imdb_corpus = read_corpus()\n",
    "pprint.pprint(imdb_corpus[:3], compact=True, width=100)\n",
    "print(\"corpus size: \", len(imdb_corpus[0]))"
   ]
  },
  {
   "cell_type": "markdown",
   "metadata": {
    "id": "tfa216H1SSt0"
   },
   "source": [
    "### Question 1.1: Implement `distinct_words` [code] (2 points)\n",
    "\n",
    "Write a method to work out the distinct words (word types) that occur in the corpus.\n",
    "\n",
    "You can use `for` loops to process the input `corpus` (a list of list of strings), but try using Python list comprehensions (which are generally faster). In particular, [this](https://coderwall.com/p/rcmaea/flatten-a-list-of-lists-in-one-line-in-python) may be useful to flatten a list of lists. If you're not familiar with Python list comprehensions in general, here's [more information](https://python-3-patterns-idioms-test.readthedocs.io/en/latest/Comprehensions.html).\n",
    "\n",
    "Your returned `corpus_words` should be sorted. You can use python's `sorted` function for this.\n",
    "\n",
    "You may find it useful to use [Python sets](https://www.w3schools.com/python/python_sets.asp) to remove duplicate words."
   ]
  },
  {
   "cell_type": "code",
<<<<<<< HEAD
   "execution_count": 17,
=======
   "execution_count": 40,
>>>>>>> d6e8e0f051804e1e39ed8606d1224fa7a47ec846
   "metadata": {
    "id": "NjJABbVFSSt1"
   },
   "outputs": [],
   "source": [
    "def distinct_words(corpus):\n",
    "    \"\"\" Determine a list of distinct words for the corpus.\n",
    "        Params:\n",
    "            corpus (list of list of strings): corpus of documents\n",
    "        Return:\n",
    "            corpus_words (list of strings): sorted list of distinct words across the corpus\n",
    "            n_corpus_words (integer): number of distinct words across the corpus\n",
    "    \"\"\"\n",
    "    corpus_words = set()\n",
    "    n_corpus_words = -1\n",
<<<<<<< HEAD
    "\n",
    "    mid = {word for document in corpus for word in document}\n",
    "    n_corpus_words = len(mid)\n",
    "    corpus_words = sorted(mid)\n",
=======
    "    \n",
    "    for doc in corpus:\n",
    "        corpus_words.update(doc)\n",
>>>>>>> d6e8e0f051804e1e39ed8606d1224fa7a47ec846
    "\n",
    "    n_corpus_words = len(corpus_words)\n",
    "    corpus_words = sorted(corpus_words)\n",
    "    return corpus_words, n_corpus_words"
   ]
  },
  {
   "cell_type": "code",
<<<<<<< HEAD
   "execution_count": 18,
=======
   "execution_count": 41,
>>>>>>> d6e8e0f051804e1e39ed8606d1224fa7a47ec846
   "metadata": {
    "colab": {
     "base_uri": "https://localhost:8080/"
    },
    "id": "iKfXBXySSSt3",
    "outputId": "8b49421a-1cff-4f10-fe4a-927f30570b59"
   },
   "outputs": [
    {
     "name": "stdout",
     "output_type": "stream",
     "text": [
      "--------------------------------------------------------------------------------\n",
      "Passed All Tests!\n",
      "--------------------------------------------------------------------------------\n"
     ]
    }
   ],
   "source": [
    "# ---------------------\n",
    "# Run this sanity check\n",
    "# Note that this not an exhaustive check for correctness.\n",
    "# ---------------------\n",
    "\n",
    "# Define toy corpus\n",
    "test_corpus = [\"{} All that glitters isn't gold {}\".format(START_TOKEN, END_TOKEN).split(\" \"), \"{} All's well that ends well {}\".format(START_TOKEN, END_TOKEN).split(\" \")]\n",
    "test_corpus_words, num_corpus_words = distinct_words(test_corpus)\n",
    "\n",
    "# Correct answers\n",
    "ans_test_corpus_words = sorted([START_TOKEN, \"All\", \"ends\", \"that\", \"gold\", \"All's\", \"glitters\", \"isn't\", \"well\", END_TOKEN])\n",
    "ans_num_corpus_words = len(ans_test_corpus_words)\n",
    "\n",
    "# Test correct number of words\n",
    "assert(num_corpus_words == ans_num_corpus_words), \"Incorrect number of distinct words. Correct: {}. Yours: {}\".format(ans_num_corpus_words, num_corpus_words)\n",
    "\n",
    "# Test correct words\n",
    "assert (test_corpus_words == ans_test_corpus_words), \"Incorrect corpus_words.\\nCorrect: {}\\nYours:   {}\".format(str(ans_test_corpus_words), str(test_corpus_words))\n",
    "\n",
    "# Print Success\n",
    "print (\"-\" * 80)\n",
    "print(\"Passed All Tests!\")\n",
    "print (\"-\" * 80)"
   ]
  },
  {
   "cell_type": "markdown",
   "metadata": {
    "id": "ymDFJn_lSSt5"
   },
   "source": [
    "### Question 1.2: Implement `compute_co_occurrence_matrix` [code] (3 points)\n",
    "\n",
    "Write a method that constructs a co-occurrence matrix for a certain window-size $n$ (with a default of 4), considering words $n$ before and $n$ after the word in the center of the window. Here, we start to use `numpy (np)` to represent vectors, matrices, and tensors. If you're not familiar with NumPy, there's a NumPy tutorial in the second half of this cs231n [Python NumPy tutorial](http://cs231n.github.io/python-numpy-tutorial/).\n"
   ]
  },
  {
   "cell_type": "code",
<<<<<<< HEAD
   "execution_count": 20,
=======
   "execution_count": 59,
>>>>>>> d6e8e0f051804e1e39ed8606d1224fa7a47ec846
   "metadata": {
    "id": "v8MIy3KDSSt6"
   },
   "outputs": [],
   "source": [
    "def compute_co_occurrence_matrix(corpus, window_size=4):\n",
    "    \"\"\" Compute co-occurrence matrix for the given corpus and window_size (default of 4).\n",
    "\n",
    "        Note: Each word in a document should be at the center of a window. Words near edges will have a smaller\n",
    "              number of co-occurring words.\n",
    "\n",
    "              For example, if we take the document \"<START> All that glitters is not gold <END>\" with window size of 4,\n",
    "              \"All\" will co-occur with \"<START>\", \"that\", \"glitters\", \"is\", and \"not\".\n",
    "\n",
    "        Params:\n",
    "            corpus (list of list of strings): corpus of documents\n",
    "            window_size (int): size of context window\n",
    "        Return:\n",
    "            M (a symmetric numpy matrix of shape (number of unique words in the corpus , number of unique words in the corpus)): \n",
    "                Co-occurence matrix of word counts. \n",
    "                The ordering of the words in the rows/columns should be the same as the ordering of the words given by the distinct_words function.\n",
    "            word2ind (dict): dictionary that maps word to index (i.e. row/column number) for matrix M.\n",
    "    \"\"\"\n",
    "    words, n_words = distinct_words(corpus)\n",
<<<<<<< HEAD
    "    M = np.zeros((n_words,n_words),dtype=int)\n",
    "    word2ind = {idx:word for idx, word in enumerate(words)}\n",
    "    \n",
    "    window = None\n",
    "    for document in corpus:\n",
    "        doc_len = len(document)\n",
    "        for i, word in enumerate(words):\n",
    "            window = document[max(0,i-window_size):min(i+window_size+1,len(document))]\n",
    "            location = word2ind[word]\n",
    "            for aim in window:\n",
    "                if aim !=\n",
    "            \n",
=======
    "    M = np.zeros((n_words, n_words))\n",
    "\n",
    "    word2ind = {word: index for index, word in enumerate(words)}\n",
    "\n",
    "    for doc in corpus:\n",
    "        indices = [word2ind[word] for word in doc]\n",
    "        for i, index in enumerate(indices):\n",
    "            start = max(0, i-window_size)\n",
    "            end = min(len(indices), i+window_size+1)\n",
    "            for j in range(start, end):\n",
    "                if i!= j:\n",
    "                    M[index,indices[j]]+=1\n",
    "                    \n",
>>>>>>> d6e8e0f051804e1e39ed8606d1224fa7a47ec846
    "    return M, word2ind"
   ]
  },
  {
   "cell_type": "code",
   "execution_count": 60,
   "metadata": {
    "colab": {
     "base_uri": "https://localhost:8080/"
    },
    "id": "u-6ID1qhSSt7",
    "outputId": "f4f1bccb-06a8-4bb6-ec80-f2b6201b2645"
   },
   "outputs": [
    {
     "name": "stdout",
     "output_type": "stream",
     "text": [
      "--------------------------------------------------------------------------------\n",
      "Passed All Tests!\n",
      "--------------------------------------------------------------------------------\n"
     ]
    }
   ],
   "source": [
    "# ---------------------\n",
    "# Run this sanity check\n",
    "# Note that this is not an exhaustive check for correctness.\n",
    "# ---------------------\n",
    "\n",
    "# Define toy corpus and get student's co-occurrence matrix\n",
    "test_corpus = [\"{} All that glitters isn't gold {}\".format(START_TOKEN, END_TOKEN).split(\" \"), \"{} All's well that ends well {}\".format(START_TOKEN, END_TOKEN).split(\" \")]\n",
    "M_test, word2ind_test = compute_co_occurrence_matrix(test_corpus, window_size=1)\n",
    "\n",
    "# Correct M and word2ind\n",
    "M_test_ans = np.array( \n",
    "    [[0., 0., 0., 0., 0., 0., 1., 0., 0., 1.,],\n",
    "     [0., 0., 1., 1., 0., 0., 0., 0., 0., 0.,],\n",
    "     [0., 1., 0., 0., 0., 0., 0., 0., 1., 0.,],\n",
    "     [0., 1., 0., 0., 0., 0., 0., 0., 0., 1.,],\n",
    "     [0., 0., 0., 0., 0., 0., 0., 0., 1., 1.,],\n",
    "     [0., 0., 0., 0., 0., 0., 0., 1., 1., 0.,],\n",
    "     [1., 0., 0., 0., 0., 0., 0., 1., 0., 0.,],\n",
    "     [0., 0., 0., 0., 0., 1., 1., 0., 0., 0.,],\n",
    "     [0., 0., 1., 0., 1., 1., 0., 0., 0., 1.,],\n",
    "     [1., 0., 0., 1., 1., 0., 0., 0., 1., 0.,]]\n",
    ")\n",
    "ans_test_corpus_words = sorted([START_TOKEN, \"All\", \"ends\", \"that\", \"gold\", \"All's\", \"glitters\", \"isn't\", \"well\", END_TOKEN])\n",
    "word2ind_ans = dict(zip(ans_test_corpus_words, range(len(ans_test_corpus_words))))\n",
    "\n",
    "# Test correct word2ind\n",
    "assert (word2ind_ans == word2ind_test), \"Your word2ind is incorrect:\\nCorrect: {}\\nYours: {}\".format(word2ind_ans, word2ind_test)\n",
    "\n",
    "# Test correct M shape\n",
    "assert (M_test.shape == M_test_ans.shape), \"M matrix has incorrect shape.\\nCorrect: {}\\nYours: {}\".format(M_test.shape, M_test_ans.shape)\n",
    "\n",
    "# Test correct M values\n",
    "for w1 in word2ind_ans.keys():\n",
    "    idx1 = word2ind_ans[w1]\n",
    "    for w2 in word2ind_ans.keys():\n",
    "        idx2 = word2ind_ans[w2]\n",
    "        student = M_test[idx1, idx2]\n",
    "        correct = M_test_ans[idx1, idx2]\n",
    "        if student != correct:\n",
    "            print(\"Correct M:\")\n",
    "            print(M_test_ans)\n",
    "            print(\"Your M: \")\n",
    "            print(M_test)\n",
    "            raise AssertionError(\"Incorrect count at index ({}, {})=({}, {}) in matrix M. Yours has {} but should have {}.\".format(idx1, idx2, w1, w2, student, correct))\n",
    "\n",
    "# Print Success\n",
    "print (\"-\" * 80)\n",
    "print(\"Passed All Tests!\")\n",
    "print (\"-\" * 80)"
   ]
  },
  {
   "cell_type": "markdown",
   "metadata": {
    "id": "K-nyJnAASSt9"
   },
   "source": [
    "### Question 1.3: Implement `reduce_to_k_dim` [code] (1 point)\n",
    "\n",
    "Construct a method that performs dimensionality reduction on the matrix to produce k-dimensional embeddings. Use SVD to take the top k components and produce a new matrix of k-dimensional embeddings. \n",
    "\n",
    "**Note:** All of numpy, scipy, and scikit-learn (`sklearn`) provide *some* implementation of SVD, but only scipy and sklearn provide an implementation of Truncated SVD, and only sklearn provides an efficient randomized algorithm for calculating large-scale Truncated SVD. So please use [sklearn.decomposition.TruncatedSVD](https://scikit-learn.org/stable/modules/generated/sklearn.decomposition.TruncatedSVD.html)."
   ]
  },
  {
   "cell_type": "code",
   "execution_count": 73,
   "metadata": {
    "id": "truGMjifSSt9"
   },
   "outputs": [],
   "source": [
    "def reduce_to_k_dim(M, k=2):\n",
    "    \"\"\" Reduce a co-occurence count matrix of dimensionality (num_corpus_words, num_corpus_words)\n",
    "        to a matrix of dimensionality (num_corpus_words, k) using the following SVD function from Scikit-Learn:\n",
    "            - http://scikit-learn.org/stable/modules/generated/sklearn.decomposition.TruncatedSVD.html\n",
    "\n",
    "        Params:\n",
    "            M (numpy matrix of shape (number of unique words in the corpus , number of unique words in the corpus)): co-occurence matrix of word counts\n",
    "            k (int): embedding size of each word after dimension reduction\n",
    "        Return:\n",
    "            M_reduced (numpy matrix of shape (number of corpus words, k)): matrix of k-dimensioal word embeddings.\n",
    "                    In terms of the SVD from math class, this actually returns U * S\n",
    "    \"\"\"\n",
    "    n_iters = 10    # Use this parameter in your call to `TruncatedSVD`\n",
    "    M_reduced = None\n",
    "    print(\"Shape of original matrix: %s\" %(str(M.shape)))\n",
    "    svd = TruncatedSVD(n_components=k, n_iter=n_iters)\n",
    "    M_reduced = svd.fit_transform(M)\n",
    "    print(\"Truncated SVD finished. Shape of reduced matrix: %s\" % (str(M_reduced.shape)))\n",
    "\n",
    "    print(\"Done.\")\n",
    "    return M_reduced"
   ]
  },
  {
   "cell_type": "code",
   "execution_count": 74,
   "metadata": {
    "colab": {
     "base_uri": "https://localhost:8080/"
    },
    "id": "7pqKuqvhSSt-",
    "outputId": "7d147bd2-9916-4226-d936-43ce795006cb"
   },
   "outputs": [
    {
     "name": "stdout",
     "output_type": "stream",
     "text": [
      "Shape of original matrix: (10, 10)\n",
      "Truncated SVD finished. Shape of reduced matrix: (10, 2)\n",
      "Done.\n",
      "--------------------------------------------------------------------------------\n",
      "Passed All Tests!\n",
      "--------------------------------------------------------------------------------\n"
     ]
    }
   ],
   "source": [
    "# ---------------------\n",
    "# Run this sanity check\n",
    "# Note that this is not an exhaustive check for correctness \n",
    "# In fact we only check that your M_reduced has the right dimensions.\n",
    "# ---------------------\n",
    "\n",
    "# Define toy corpus and run student code\n",
    "test_corpus = [\"{} All that glitters isn't gold {}\".format(START_TOKEN, END_TOKEN).split(\" \"), \"{} All's well that ends well {}\".format(START_TOKEN, END_TOKEN).split(\" \")]\n",
    "M_test, word2ind_test = compute_co_occurrence_matrix(test_corpus, window_size=1)\n",
    "M_test_reduced = reduce_to_k_dim(M_test, k=2)\n",
    "\n",
    "# Test proper dimensions\n",
    "assert (M_test_reduced.shape[0] == 10), \"M_reduced has {} rows; should have {}\".format(M_test_reduced.shape[0], 10)\n",
    "assert (M_test_reduced.shape[1] == 2), \"M_reduced has {} columns; should have {}\".format(M_test_reduced.shape[1], 2)\n",
    "\n",
    "# Print Success\n",
    "print (\"-\" * 80)\n",
    "print(\"Passed All Tests!\")\n",
    "print (\"-\" * 80)"
   ]
  },
  {
   "cell_type": "markdown",
   "metadata": {
    "id": "apZknsLoSSt_"
   },
   "source": [
    "### Question 1.4: Implement `plot_embeddings` [code] (1 point)\n",
    "\n",
    "Here you will write a function to plot a set of 2D vectors in 2D space. For graphs, we will use Matplotlib (`plt`).\n",
    "\n",
    "For this example, you may find it useful to adapt [this code](http://web.archive.org/web/20190924160434/https://www.pythonmembers.club/2018/05/08/matplotlib-scatter-plot-annotate-set-text-at-label-each-point/). In the future, a good way to make a plot is to look at [the Matplotlib gallery](https://matplotlib.org/gallery/index.html), find a plot that looks somewhat like what you want, and adapt the code they give."
   ]
  },
  {
   "cell_type": "code",
   "execution_count": 85,
   "metadata": {
    "id": "dDcCZE5lSSuA"
   },
   "outputs": [],
   "source": [
    "def plot_embeddings(M_reduced, word2ind, words):\n",
    "    \"\"\" Plot in a scatterplot the embeddings of the words specified in the list \"words\".\n",
    "        NOTE: do not plot all the words listed in M_reduced / word2ind.\n",
    "        Include a label next to each point.\n",
    "\n",
    "        Params:\n",
    "            M_reduced (numpy matrix of shape (number of unique words in the corpus , 2)): matrix of 2-dimensioal word embeddings\n",
    "            word2ind (dict): dictionary that maps word to indices for matrix M\n",
    "            words (list of strings): words whose embeddings we want to visualize\n",
    "    \"\"\"\n",
    "\n",
    "    indices = [word2ind[word] for word in words]\n",
    "    embeddings = M_reduced[indices]\n",
    "\n",
    "    plt.figure(figsize=(10, 10))\n",
    "    plt.scatter(embeddings[:, 0], embeddings[:, 1])\n",
    "    \n",
    "     # 添加标签\n",
    "    for i, word in enumerate(words):\n",
    "        if word in word2ind:\n",
    "            plt.annotate(word, xy=(embeddings[i, 0], embeddings[i, 1]), fontsize=12)\n",
    "\n",
    "    plt.title('Word Embeddings Visualization')\n",
    "    plt.show()"
   ]
  },
  {
   "cell_type": "code",
   "execution_count": 86,
   "metadata": {
    "colab": {
     "base_uri": "https://localhost:8080/",
     "height": 372
    },
    "id": "gHxOMWPxSSuB",
    "outputId": "565711fc-02ea-43cb-daa5-8b8bb310cdda"
   },
   "outputs": [
    {
     "name": "stdout",
     "output_type": "stream",
     "text": [
      "--------------------------------------------------------------------------------\n",
      "Outputted Plot:\n"
     ]
    },
    {
     "data": {
      "image/png": "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",
      "text/plain": [
       "<Figure size 1000x1000 with 1 Axes>"
      ]
     },
     "metadata": {},
     "output_type": "display_data"
    },
    {
     "name": "stdout",
     "output_type": "stream",
     "text": [
      "--------------------------------------------------------------------------------\n"
     ]
    }
   ],
   "source": [
    "# ---------------------\n",
    "# Run this sanity check\n",
    "# Note that this is not an exhaustive check for correctness.\n",
    "# The plot produced should look like the included file question_1.4_test.png \n",
    "# ---------------------\n",
    "\n",
    "print (\"-\" * 80)\n",
    "print (\"Outputted Plot:\")\n",
    "\n",
    "M_reduced_plot_test = np.array([[1, 1], [-1, -1], [1, -1], [-1, 1], [0, 0]])\n",
    "word2ind_plot_test = {'test1': 0, 'test2': 1, 'test3': 2, 'test4': 3, 'test5': 4}\n",
    "words = ['test1', 'test2', 'test3', 'test4', 'test5']\n",
    "plot_embeddings(M_reduced_plot_test, word2ind_plot_test, words)\n",
    "\n",
    "print (\"-\" * 80)"
   ]
  },
  {
   "cell_type": "markdown",
   "metadata": {
    "id": "YpBzYs2hSSuC"
   },
   "source": [
    "### Question 1.5: Co-Occurrence Plot Analysis [written] (3 points)\n",
    "\n",
    "Now we will put together all the parts you have written! We will compute the co-occurrence matrix with fixed window of 4 (the default window size), over the Large Movie Review corpus. Then we will use TruncatedSVD to compute 2-dimensional embeddings of each word. TruncatedSVD returns U\\*S, so we need to normalize the returned vectors, so that all the vectors will appear around the unit circle (therefore closeness is directional closeness). **Note**: The line of code below that does the normalizing uses the NumPy concept of *broadcasting*. If you don't know about broadcasting, check out\n",
    "[Computation on Arrays: Broadcasting by Jake VanderPlas](https://jakevdp.github.io/PythonDataScienceHandbook/02.05-computation-on-arrays-broadcasting.html).\n",
    "\n",
    "Run the below cell to produce the plot. It can take up to a few minutes to run."
   ]
  },
  {
   "cell_type": "code",
   "execution_count": 87,
   "metadata": {
    "colab": {
     "base_uri": "https://localhost:8080/",
     "height": 355
    },
    "id": "7L1Uk50mSSuD",
    "outputId": "35ae3e41-07c8-421b-e75c-dcbeaa4fb015"
   },
   "outputs": [
    {
     "name": "stdout",
     "output_type": "stream",
     "text": [
      "Shape of original matrix: (5880, 5880)\n",
      "Truncated SVD finished. Shape of reduced matrix: (5880, 2)\n",
      "Done.\n"
     ]
    },
    {
     "data": {
      "image/png": "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",
      "text/plain": [
       "<Figure size 1000x1000 with 1 Axes>"
      ]
     },
     "metadata": {},
     "output_type": "display_data"
    }
   ],
   "source": [
    "# -----------------------------\n",
    "# Run This Cell to Produce Your Plot\n",
    "# ------------------------------\n",
    "imdb_corpus = read_corpus()\n",
    "M_co_occurrence, word2ind_co_occurrence = compute_co_occurrence_matrix(imdb_corpus)\n",
    "M_reduced_co_occurrence = reduce_to_k_dim(M_co_occurrence, k=2)\n",
    "\n",
    "# Rescale (normalize) the rows to make them each of unit-length\n",
    "M_lengths = np.linalg.norm(M_reduced_co_occurrence, axis=1)     # 计算降维后矩阵每一行的长度（即范数）\n",
    "M_normalized = M_reduced_co_occurrence / M_lengths[:, np.newaxis] # broadcasting\n",
    "\n",
    "words = ['movie', 'book', 'mysterious', 'story', 'fascinating', 'good', 'interesting', 'large', 'massive', 'huge']\n",
    "\n",
    "plot_embeddings(M_normalized, word2ind_co_occurrence, words)"
   ]
  },
  {
   "cell_type": "markdown",
   "metadata": {
    "id": "RtOd40JTSSuE"
   },
   "source": [
    "**Verify that your figure matches \"question_1.5.png\" in the assignment zip. If not, use the figure in \"question_1.5.png\" to answer the next two questions.**"
   ]
  },
  {
   "cell_type": "markdown",
   "metadata": {
    "id": "ciXWGMvRSSuE"
   },
   "source": [
    "a. Find at least two groups of words that cluster together in 2-dimensional embedding space. Give an explanation for each cluster you observe."
   ]
  },
  {
   "cell_type": "markdown",
   "metadata": {
    "id": "fLU7o3HESSuF"
   },
   "source": [
    "#### <font color=\"red\">ANS：['good', 'fascinating', 'interesting']<br>这些词都与正面的情感和积极的评价相关</font>\n",
    "\n"
   ]
  },
  {
   "cell_type": "markdown",
   "metadata": {
    "id": "3H-tyA9RSSuF"
   },
   "source": [
    "b. What doesn't cluster together that you might think should have? Describe at least two examples.\n"
   ]
  },
  {
   "cell_type": "markdown",
   "metadata": {
    "id": "3NG2j9J4SSuG"
   },
   "source": [
    "#### <font color=\"red\">ANS：['large','huge']</font>"
   ]
  },
  {
   "cell_type": "markdown",
   "metadata": {
    "id": "_h0OzAaRSSuI"
   },
   "source": [
    "## Part 2: Prediction-Based Word Vectors (15 points)\n",
    "\n",
    "As discussed in class, more recently prediction-based word vectors have demonstrated better performance, such as word2vec and GloVe (which also utilizes the benefit of counts). Here, we shall explore the embeddings produced by GloVe. Please revisit the class notes and lecture slides for more details on the word2vec and GloVe algorithms. If you're feeling adventurous, challenge yourself and try reading [GloVe's original paper](https://nlp.stanford.edu/pubs/glove.pdf).\n",
    "\n",
    "Then run the following cells to load the GloVe vectors into memory. **Note**: If this is your first time to run these cells, i.e. download the embedding model, it will take a couple minutes to run. If you've run these cells before, rerunning them will load the model without redownloading it, which will take about 1 to 2 minutes."
   ]
  },
  {
   "cell_type": "code",
   "execution_count": 88,
   "metadata": {
    "colab": {
     "base_uri": "https://localhost:8080/"
    },
    "id": "l3kwvdksSSuI",
    "outputId": "736a4672-4b59-4c2e-d6e6-b16e4548db30"
   },
   "outputs": [
    {
     "name": "stdout",
     "output_type": "stream",
     "text": [
      "[==================================================] 100.0% 252.1/252.1MB downloaded\n",
      "Loaded vocab size 400000\n"
     ]
    }
   ],
   "source": [
    "def load_embedding_model():\n",
    "    \"\"\" Load GloVe Vectors\n",
    "        Return:\n",
    "            wv_from_bin: All 400000 embeddings, each length 200\n",
    "    \"\"\"\n",
    "    import gensim.downloader as api\n",
    "    wv_from_bin = api.load(\"glove-wiki-gigaword-200\")    # load the pre-trained GloVe vectors\n",
    "    print(\"Loaded vocab size %i\" % len(list(wv_from_bin.index_to_key)))\n",
    "    return wv_from_bin\n",
    "wv_from_bin = load_embedding_model()"
   ]
  },
  {
   "cell_type": "markdown",
   "metadata": {
    "id": "egIeG1RTSSuK"
   },
   "source": [
    "#### Note: If you are receiving a \"reset by peer\" error, rerun the cell to restart the download. "
   ]
  },
  {
   "cell_type": "markdown",
   "metadata": {
    "id": "rH9gWJWpSSuL"
   },
   "source": [
    "### Reducing dimensionality of Word Embeddings\n",
    "Let's directly compare the GloVe embeddings to those of the co-occurrence matrix. In order to avoid running out of memory, we will work with a sample of 40000 GloVe vectors instead.\n",
    "Run the following cells to:\n",
    "\n",
    "1. Put 40000 Glove vectors into a matrix M\n",
    "2. Run `reduce_to_k_dim` (your Truncated SVD function) to reduce the vectors from 200-dimensional to 2-dimensional."
   ]
  },
  {
   "cell_type": "code",
   "execution_count": 89,
   "metadata": {
    "id": "0PROUu_-SSuL"
   },
   "outputs": [],
   "source": [
    "def get_matrix_of_vectors(wv_from_bin, required_words):\n",
    "    \"\"\" Put the GloVe vectors into a matrix M.\n",
    "        Param:\n",
    "            wv_from_bin: KeyedVectors object; the 400000 GloVe vectors loaded from file\n",
    "        Return:\n",
    "            M: numpy matrix shape (num words, 200) containing the vectors\n",
    "            word2ind: dictionary mapping each word to its row number in M\n",
    "    \"\"\"\n",
    "    import random\n",
    "    words = list(wv_from_bin.index_to_key)\n",
    "    print(\"Shuffling words ...\")\n",
    "    random.seed(225)\n",
    "    random.shuffle(words)\n",
    "    print(\"Putting %i words into word2ind and matrix M...\" % len(words))\n",
    "    word2ind = {}\n",
    "    M = []\n",
    "    curInd = 0\n",
    "    for w in words:\n",
    "        try:\n",
    "            M.append(wv_from_bin.get_vector(w))\n",
    "            word2ind[w] = curInd\n",
    "            curInd += 1\n",
    "        except KeyError:\n",
    "            continue\n",
    "    for w in required_words:\n",
    "        if w in words:\n",
    "            continue\n",
    "        try:\n",
    "            M.append(wv_from_bin.get_vector(w))\n",
    "            word2ind[w] = curInd\n",
    "            curInd += 1\n",
    "        except KeyError:\n",
    "            continue\n",
    "    M = np.stack(M)\n",
    "    print(\"Done.\")\n",
    "    return M, word2ind"
   ]
  },
  {
   "cell_type": "code",
   "execution_count": 90,
   "metadata": {
    "colab": {
     "base_uri": "https://localhost:8080/"
    },
    "id": "cpgM0M-hSSuM",
    "outputId": "b0989be9-8e11-45d8-8ba9-47297a990760"
   },
   "outputs": [
    {
     "name": "stdout",
     "output_type": "stream",
     "text": [
      "Shuffling words ...\n",
      "Putting 400000 words into word2ind and matrix M...\n",
      "Done.\n",
      "Shape of original matrix: (400000, 200)\n",
      "Truncated SVD finished. Shape of reduced matrix: (400000, 2)\n",
      "Done.\n"
     ]
    }
   ],
   "source": [
    "# -----------------------------------------------------------------\n",
    "# Run Cell to Reduce 200-Dimensional Word Embeddings to k Dimensions\n",
    "# Note: This should be quick to run\n",
    "# -----------------------------------------------------------------\n",
    "M, word2ind = get_matrix_of_vectors(wv_from_bin, words)\n",
    "M_reduced = reduce_to_k_dim(M, k=2)\n",
    "\n",
    "# Rescale (normalize) the rows to make them each of unit-length\n",
    "M_lengths = np.linalg.norm(M_reduced, axis=1)\n",
    "M_reduced_normalized = M_reduced / M_lengths[:, np.newaxis] # broadcasting"
   ]
  },
  {
   "cell_type": "markdown",
   "metadata": {
    "id": "8_46FYMJSSuN"
   },
   "source": [
    "**Note: If you are receiving out of memory issues on your local machine, try closing other applications to free more memory on your device. You may want to try restarting your machine so that you can free up extra memory. Then immediately run the jupyter notebook and see if you can load the word vectors properly. If you still have problems with loading the embeddings onto your local machine after this, please go to office hours or contact course staff.**"
   ]
  },
  {
   "cell_type": "markdown",
   "metadata": {
    "id": "zAFrU8ahSSuO"
   },
   "source": [
    "### Question 2.1: GloVe Plot Analysis [written] (3 points)\n",
    "\n",
    "Run the cell below to plot the 2D GloVe embeddings for `['movie', 'book', 'mysterious', 'story', 'fascinating', 'good', 'interesting', 'large', 'massive', 'huge']`."
   ]
  },
  {
   "cell_type": "code",
   "execution_count": 91,
   "metadata": {
    "colab": {
     "base_uri": "https://localhost:8080/",
     "height": 321
    },
    "id": "9kHRkjz6SSuO",
    "outputId": "fbe0f8af-ea5e-456d-8d75-b9ad0caaa5fc",
    "scrolled": true
   },
   "outputs": [
    {
     "data": {
      "image/png": "iVBORw0KGgoAAAANSUhEUgAAA38AAANCCAYAAADWU3X8AAAAOXRFWHRTb2Z0d2FyZQBNYXRwbG90bGliIHZlcnNpb24zLjguNCwgaHR0cHM6Ly9tYXRwbG90bGliLm9yZy8fJSN1AAAACXBIWXMAAA9hAAAPYQGoP6dpAAB7qklEQVR4nOzde3zO9f/H8ee1s7FdbDObQ+bMnA+NkfNpmIhyyuSQY1LkG5JsJUoK30qqbygkKhJpkkPfyuaQlmRJZc5zGK4hG9s+vz/8dn27bE7ZZezzuN9u1+3W9b5en/fn/flsunl6v6/3x2IYhiEAAAAAQIHmkt8DAAAAAAA4H+EPAAAAAEyA8AcAAAAAJkD4AwAAAAATIPwBAAAAgAkQ/gAAAADABAh/AAAAAGAChD8AAAAAMAHCHwAAAACYAOEPQIHzySefyGKxaOnSpTk+q127tiwWi9auXZvjswoVKqhevXpOHdumTZtksVi0adOma9YtWLBAFovlqq/rHX8zWrRooRo1auRZf9cSEhKi/v37X7cu+/qTkpLsbS1atFCLFi2cNrZ/auXKlbJYLJo7d+5Va9atWyeLxaLXXntNkmSxWBQdHX2bRnh1ud1TZ47tyJEjio6OVkJCQo7PoqOjZbFYnHJeAMBlbvk9AADIay1atJDFYtHGjRvVs2dPe/upU6f0888/q3Dhwtq4caPat29v/+zQoUP6888/NWbMmPwY8lXNnz9fVatWzdEeGhqaD6PJX3PmzMnvIeSqU6dOCgoK0rx58zRs2LBca+bPny93d3dFRUVJkuLi4lS6dOnbOcwb5syxHTlyRDExMQoJCVGdOnUcPnv00UcVERHhlPMCAC4j/AEocAICAlSjRo0cs2PffPON3NzcNGjQIG3cuNHhs+z3LVu2vOXzX7hwQYUKFbrlfiSpRo0aatCgQZ70dbe7UwOvm5ub+vXrp+nTp2vXrl05ZlHPnDmjFStW6P7771fx4sUlSY0aNcqPod6Q/Bpb6dKl79hADAAFBcs+ARRILVu21J49e3T06FF726ZNm3TvvfeqY8eO+uGHH3T27FmHz1xdXdW0aVNJUlpamiZMmKBy5crJw8NDpUqV0mOPPaYzZ844nCckJESRkZFavny56tatKy8vL8XExEiSfv31V0VERMjb21sBAQEaNmyYwznzisVi0ciRIzV//nxVqVJFhQoVUoMGDRQfHy/DMPTKK6+oXLlyKlKkiFq1aqXff/89136+/fZbNWrUSIUKFVKpUqU0adIkZWZmOtRcvHhRU6ZMUdWqVeXp6anixYtrwIABOnHihEPdpUuX9PTTTysoKEje3t667777tHXr1lzPGx8fryZNmsjLy0slS5bUhAkTdOnSpRx1Vy5RTEpKksVi0YwZM/Taa6/ZrzE8PFzx8fE5jn/33XdVuXJleXp6KjQ0VB9++KH69++vkJAQh7q33npLtWvXVpEiReTj46OqVavqmWeeyXXs2QYNGiTp8gzflZYsWaK0tDQNHDjQ3nbl0sq//vpLY8eOVbly5eTl5SU/Pz81aNBAS5Ysuer1Z8vtGmJiYtSwYUP5+fnJ19dX9erV03vvvSfDMK55HbmNLSQk5LrLj3///XcNGDBAlSpVkre3t0qVKqXOnTvr559/tveT/edPkgYMGGDvI/tcuS37zMrK0vTp0+2/b4GBgerXr58OHTrkUJe9dHnbtm1q2rSpvL29Vb58eb300kvKysq67jUDgFkw8wegQGrZsqX+/e9/a9OmTerdu7eky7N7kZGRatKkiSwWi7799lt17NjR/lm9evVktVplGIa6du2q9evXa8KECWratKl27typyZMnKy4uTnFxcfL09LSfa8eOHUpMTNSzzz6rcuXKqXDhwjp27JiaN28ud3d3zZkzRyVKlNDixYs1cuTIm7qOzMxMZWRkOLRZLBa5uro6tK1evVo//vijXnrpJVksFo0bN06dOnXSI488oj///FNvvPGGbDabxowZo+7duyshIcHhL9rJycnq1auXxo8fr+eff15ffPGFpkyZotOnT+uNN96QdPkv4l26dNG3336rp59+Wo0bN9b+/fs1efJktWjRQtu3b7fPeA4ePFgffPCBxo4dq7Zt22rXrl3q1q1bjvC7e/dutW7dWiEhIVqwYIG8vb01Z84cffjhhzd8j958801VrVpVs2bNkiRNmjRJHTt21L59+2S1WiVJ77zzjoYOHaru3btr5syZstlsiomJUXp6ukNfH330kUaMGKHHH39cM2bMkIuLi37//Xft3r37mmOoXLmy7rvvPi1atEgvvfSS3N3d7Z/Nnz9fpUqVclhmfKUxY8Zo4cKFmjJliurWravz589r165dSklJueH78HdJSUkaOnSo7rnnHkmXA/bjjz+uw4cP67nnnrupvlasWOFwn7KysjRs2DD9+eef9v6PHDkif39/vfTSSypevLhOnTql999/Xw0bNtSPP/6oKlWqqF69epo/f74GDBigZ599Vp06dZKka872DR8+XO+8845GjhypyMhIJSUladKkSdq0aZN27NihgIAAe21ycrIefvhhPfXUU5o8ebJWrFihCRMmqGTJkurXr99NXTMAFFgGABRAp06dMlxcXIwhQ4YYhmEYJ0+eNCwWixEbG2sYhmGEhYUZY8eONQzDMA4cOGBIMp5++mnDMAwjNjbWkGRMnz7doc+lS5cakox33nnH3la2bFnD1dXV2LNnj0PtuHHjDIvFYiQkJDi0t23b1pBkbNy48Zrjnz9/viEp15erq6tDrSQjKCjIOHfunL3ts88+MyQZderUMbKysuzts2bNMiQZO3futLc1b97ckGSsXLnSod/BgwcbLi4uxv79+w3DMIwlS5YYkoxPP/3UoW7btm2GJGPOnDmGYRhGYmKiIckYPXq0Q93ixYsNScYjjzxib+vZs6dRqFAhIzk52d6WkZFhVK1a1ZBk7Nu3z2GczZs3t7/ft2+fIcmoWbOmkZGRYW/funWrIclYsmSJYRiGkZmZaQQFBRkNGzZ0GM/+/fsNd3d3o2zZsva2kSNHGkWLFjX+ieyf2fLly+1tu3btMiQZEydOdKiVZEyePNn+vkaNGkbXrl2v2f+V15/tkUcecbiGK2VmZhqXLl0ynn/+ecPf39/h9yG3Pq8c25VGjhxpuLm5GWvWrLlqTUZGhnHx4kWjUqVKDr8H2b8r8+fPz3HM5MmTjb//tST792jEiBEOdVu2bDEkGc8884zDdUgytmzZ4lAbGhpqtG/f/qrjBACzYdkngAKpWLFiql27tn1Z2jfffCNXV1c1adJEktS8eXP79/yu/L7fhg0bJCnHrpQPPfSQChcurPXr1zu016pVS5UrV3Zo27hxo6pXr67atWs7tPfp0+emruODDz7Qtm3bHF5btmzJUdeyZUsVLlzY/r5atWqSpA4dOjjM8GW379+/3+F4Hx8f3X///TnGmpWVpf/+97+SLs8uFi1aVJ07d1ZGRob9VadOHQUFBdnvdfb9fPjhhx3669Gjh9zcHBecbNy4Ua1bt1aJEiXsba6urg4b9VxPp06dHGZCa9Wq5XCNe/bsUXJysnr06OFw3D333GP/fcgWFhamM2fOqHfv3lq5cqVOnjx5w+Po0aOHfHx8NG/ePHvbvHnzZLFYNGDAgGseGxYWpi+//FLjx4/Xpk2bdOHChRs+b242bNigNm3ayGq1ytXVVe7u7nruueeUkpKi48eP/+N+X3rpJb3xxhuaO3euOnToYG/PyMjQ1KlTFRoaKg8PD7m5ucnDw0N79+5VYmLiPzpX9u/RlX8Ow8LCVK1atRx/DoOCghQWFubQVqtWrRy/6wBgZoQ/AAVWy5Yt9dtvv+nIkSPauHGj6tevryJFiki6HP5+/PFH2Ww2bdy4UW5ubrrvvvskSSkpKXJzc7NvzpHNYrEoKCgox1K84ODgHOdOSUlRUFBQjvbc2q6lWrVqatCggcOrfv36Oer8/Pwc3nt4eFyzPS0tzaH97+HryrFmX++xY8d05swZeXh4yN3d3eGVnJxsD0rZ9Vdeq5ubm/z9/R3a8uI+Xdln9pLc7ACVPZ7crvHKtqioKM2bN0/79+9X9+7dFRgYqIYNG2rdunXXHYe3t7d69eql2NhYJScnKyMjQ4sWLVLz5s1VoUKFax7773//W+PGjdNnn32mli1bys/PT127dtXevXuve94rbd26Ve3atZN0+XuO33//vbZt26aJEydK0j8OlosWLdIzzzyj5557zv4dx2xjxozRpEmT1LVrV61atUpbtmzRtm3bVLt27X98vuyfW25/vkqWLJnjz+GVvwfS5d+FWw3SAFCQEP4AFFjZM3mbNm3Spk2b1Lx5c/tn2UHvv//9r30jiuxg6O/vr4yMjBybmBiGoeTkZIfvGUnK9dlk/v7+Sk5OztGeW9ud4NixYznassea/ZfqgIAA+fv755iJzH5lP4ohu/7Ka83IyMj1L+zOvk/Z47nWNf7dgAEDtHnzZtlsNn3xxRcyDEORkZE3NIM0aNAgZWRk6IMPPtDq1at1/PjxHEEpN4ULF1ZMTIx+/fVXJScn66233lJ8fLw6d+5sr/Hy8srxHUVJOWYnP/roI7m7u2v16tXq0aOHGjdufMs7xq5bt04DBw5U//797Rsa/d2iRYvUr18/TZ06Ve3bt1dYWJgaNGhwUzOnV8r+uf1906ZsR44cyfHnEABwfYQ/AAVWs2bN5Orqqk8++US//PKLw06JVqtVderU0fvvv6+kpCSHRzy0bt1a0uW/0P7dp59+qvPnz9s/v5aWLVvql19+0U8//eTQfjMbmdxOZ8+e1eeff+7Q9uGHH8rFxUXNmjWTJEVGRiolJUWZmZk5ZiMbNGigKlWqSJL9Pi9evNihv2XLluXYvKZly5Zav369QzDLzMzU0qVL8+zaqlSpoqCgIC1btsyh/cCBA9q8efNVjytcuLA6dOigiRMn6uLFi/rll1+ue66GDRuqRo0amj9/vubPny+r1aru3bvf1HhLlCih/v37q3fv3tqzZ4/++usvSZd33fztt98cAmBKSkqOa7BYLHJzc3NYCnvhwgUtXLjwpsaRLSEhQd27d1erVq30zjvv5FpjsVgcNkGSpC+++EKHDx92aLtyVvZaWrVqJSnnn8Nt27YpMTHxhv4cAgAcsdsngAIre4v7zz77TC4uLjm+39W8eXP7DpF/D39t27ZV+/btNW7cOKWmpqpJkyb23T7r1q1rf1D3tTz55JOaN2+eOnXqpClTpth3+/z1119v6hp27dqVIzBJUoUKFXIsS70V/v7+Gj58uA4cOKDKlStrzZo1evfddzV8+HD7jo69evXS4sWL1bFjRz3xxBMKCwuTu7u7Dh06pI0bN6pLly564IEHVK1aNfXt21ezZs2Su7u72rRpo127dmnGjBny9fV1OO+zzz6rzz//XK1atdJzzz0nb29vvfnmmzp//nyeXZuLi4tiYmI0dOhQPfjggxo4cKDOnDmjmJgYBQcHy8Xlf/8OOnjwYBUqVEhNmjRRcHCwkpOTNW3aNFmtVvtjCq5n4MCBGjNmjPbs2aOhQ4fe0DMfGzZsqMjISNWqVUvFihVTYmKiFi5cqPDwcHl7e0u6vCT17bffVt++fTV48GClpKRo+vTpOe5pp06d9Nprr6lPnz4aMmSIUlJSNGPGjBzh7EakpqaqY8eOKlSokMaOHavt27c7fB4aGipfX19FRkZqwYIFqlq1qmrVqqUffvhBr7zySo6dPCtUqKBChQpp8eLFqlatmooUKaKSJUuqZMmSOc5dpUoVDRkyRK+//rpcXFzUoUMH+26fZcqU0ejRo2/6egDA9PJ7xxkAcKann37akGQ0aNAgx2fZO2J6eHgY58+fd/jswoULxrhx44yyZcsa7u7uRnBwsDF8+HDj9OnTDnVly5Y1OnXqlOu5d+/ebbRt29bw8vIy/Pz8jEGDBhkrV6685d0+JRnvvvuuvVaS8dhjjzkcn70T5iuvvOLQvnHjRkOS8fHHH9vbmjdvblSvXt3YtGmT0aBBA8PT09MIDg42nnnmGePSpUsOx1+6dMmYMWOGUbt2bcPLy8soUqSIUbVqVWPo0KHG3r177XXp6enGU089ZQQGBhpeXl5Go0aNjLi4OKNs2bIOu30ahmF8//33RqNGjQxPT08jKCjI+Ne//mW88847N7zb55XXmH1Prtyx8p133jEqVqxoeHh4GJUrVzbmzZtndOnSxahbt6695v333zdatmxplChRwvDw8DBKlixp9OjRw2F31Os5ceKE4eHhYUgytm7dmmvNleMbP3680aBBA6NYsWKGp6enUb58eWP06NHGyZMnHY57//33jWrVqhleXl5GaGiosXTp0lx3+5w3b55RpUoVe1/Tpk0z3nvvveve0yvHln2Pr/bK/j0+ffq0MWjQICMwMNDw9vY27rvvPuPbb7/Ntf8lS5YYVatWNdzd3R3OdeVun4ZxeafSl19+2ahcubLh7u5uBAQEGH379jUOHjzoUJf9O3yl6+2ECgBmYzGMG3jiKwAABcyZM2dUuXJlde3a9arLGQEAKEhY9gkAKPCSk5P14osvqmXLlvL399f+/fs1c+ZMnT17Vk888UR+Dw8AgNuC8AcAKPA8PT2VlJSkESNG6NSpU/L29lajRo00d+5cVa9ePb+HBwDAbcGyTwAAAAAwAR71AAAAAAAmQPgDAAAAABMg/AEAAACACRS4DV+ysrJ05MgR+fj4yGKx5PdwAAAAAOQTwzB09uxZlSxZUi4uzHsVuPB35MgRlSlTJr+HAQAAAOAOcfDgQZUuXTq/h5HvClz48/HxkXT5B+zr65vPowEAAACQX1JTU1WmTBl7RjC7Ahf+spd6+vr6Ev4AAAAA8HWw/8fCVwAAAAAwAcIfAAAAAJgA4Q8AAAAATIDwBwAAAAAmQPgDAAAAABMg/AEAAACACRD+AAAAAMAECH8AAAAAYAKEPwAAAAAwAcIfAAAAAJgA4Q8AAAAATIDwBwAAAAAmQPgDAAAAABMg/AEAAACACRD+AAAAAMAECH8AAAAAYAKEPwAAAAAwAcIfAAAAAJgA4Q8AAAAATIDwBwAAAAAmQPi7C0VHR8tisejkyZO39bz9+/dXkSJFbus5AQAAAOQNwh8AAAAAmADhDwAAAABMgPB3Fzt48KC6desmX19fWa1W9e3bVydOnLB/npWVpenTp6tq1ary9PRUYGCg+vXrp0OHDuXoa968eapdu7a8vLzk5+enBx54QImJidcdw/fff6+AgABFRkbq/PnzeXp9AAAAAPIO4e8u9sADD6hixYr65JNPFB0drc8++0zt27fXpUuXJEnDhw/XuHHj1LZtW33++ed64YUXFBsbq8aNGzt8X3DatGkaNGiQqlevruXLl2v27NnauXOnwsPDtXfv3quef9myZWrdurV69OihlStXqnDhwk6/ZgAAAAD/jFt+DwD/XLdu3TR9+nRJUrt27VSiRAk9/PDDWrZsmerXr6933nlHI0aM0Ouvv24/pm7dumrYsKFmzpypF198UWfOnNELL7ygjh076sMPP7TXtWjRQpUqVVJ0dLQWL16c49wvv/yyJk6cqKlTp+rpp592/sUCAAAAuCXM/N3FHn74YYf3PXr0kJubmzZu3KiNGzdKurxD59+FhYWpWrVqWr9+vSQpLi5OFy5cyFFXpkwZtWrVyl6XzTAMDR06VJMnT9aHH35I8AMAAADuEoS/u0BmlqG4P1K0MuGw4v5IUZZhSJKCgoIc6tzc3OTv76+UlBSlpKRIkoKDg3P0V7JkSfvnN1qX7eLFi1q6dKmqV6+uDh063PrFAQAAALgtWPZ5h4vddVQxq3brqC3N3paxbZ8kKTk5WaVKlfpfe0aGUlJS5O/vL39/f0nS0aNHVbp0aYc+jxw5ooCAAElyqLvS3+uyeXp6auPGjWrfvr3atGmj2NhYFStWLA+uFAAAAIAzMfN3B4vddVTDF+1wCH6SdC49Q5L04ux3HNqXLVumjIwMtWjRQq1atZIkLVq0yKFm27ZtSkxMVOvWrSVJ4eHhKlSoUI66Q4cOacOGDfa6v6tbt66++eYbHTp0SC1atNDx48dv7UIBAAAAOB0zf3eozCxDMat2y7hGzRerVmrsv3zVvl07/fLLL5o0aZJq166tHj16yMPDQ0OGDNHrr78uFxcXdejQQUlJSZo0aZLKlCmj0aNHS5KKFi2qSZMm6ZlnnlG/fv3Uu3dvpaSkKCYmRl5eXpo8eXKu565WrZq+/fZbtWnTRs2aNdPXX3+dY4YRAAAAwJ2D8HeH2rrvVI4Zvyv5dZmgLTu+1Ntz58pisahz586aNWuWPDw8JElvvfWWKlSooPfee09vvvmmrFarIiIiNG3aNPtyT0maMGGCAgMD9e9//1tLly5VoUKF1KJFC02dOlWVKlW66vnLly9vD4BNmzbV+vXrVb58+by5AQAAAADylMUwjGtNLt11UlNTZbVaZbPZ5Ovrm9/D+cdWJhzWEx8lXLdudq866lKn1HXrAAAAALMpKNkgr/CdvztUoI9XntYBAAAAMDenh785c+aoXLly8vLyUv369fXtt99etfbo0aPq06ePqlSpIhcXFz355JPOHt4dK6ycn4KtXrJc5XOLpGCrl8LK+d3OYQEAAAC4Szk1/C1dulRPPvmkJk6cqB9//FFNmzZVhw4ddODAgVzr09PTVbx4cU2cOFG1a9d25tDueK4uFk3uHCpJOQJg9vvJnUPl6nK1eAgAAAAA/+PU7/w1bNhQ9erV01tvvWVvq1atmrp27app06Zd89gWLVqoTp06mjVr1k2ds6Ct683tOX/BVi9N7hyqiBo5H8wOAAAA4LKClg1uldN2+7x48aJ++OEHjR8/3qG9Xbt22rx5s7NOW+BE1AhW29Agbd13SsfPpinQ5/JST2b8AAAAANwMp4W/kydPKjMzUyVKlHBoL1GihJKTk/PsPOnp6UpPT7e/T01NzbO+7xSuLhaFV/C/fiEAAAAAXIXTN3yxWBxnqAzDyNF2K6ZNmyar1Wp/lSlTJs/6BgAAAICCwmnhLyAgQK6urjlm+Y4fP55jNvBWTJgwQTabzf46ePBgnvUNAAAAAAWF08Kfh4eH6tevr3Xr1jm0r1u3To0bN86z83h6esrX19fhBQAAAABw5LTv/EnSmDFjFBUVpQYNGig8PFzvvPOODhw4oGHDhkm6PGt3+PBhffDBB/ZjEhISJEnnzp3TiRMnlJCQIA8PD4WGhjpzqAAAAABQoDk1/PXs2VMpKSl6/vnndfToUdWoUUNr1qxR2bJlJV1+qPuVz/yrW7eu/b9/+OEHffjhhypbtqySkpKcOVQAAAAAKNCc+py//MCzPAAAAABIZIMrOX23TwAAAABA/iP8AQAAAIAJEP4AAAAAwAQIfwAAAABgAoQ/AAAAADABwh8AAAAAmADhDwAAAABMgPAHAAAAACZA+AMAAAAAEyD8AQAAAIAJEP4AAAAAwAQIfwAAAABgAoQ/AAAAADABwh8AAAAAmADhDwAAAABMgPAHAAAAACZA+AMAAAAAEyD8AQAAAIAJEP4AAAAAwAQIfwAAAABgAoQ/AAAAADABwh8AAAAAmADhDwAAAABMgPAHAAAAACZA+AMAAAAAEyD8AQAAAIAJEP4AAAAAwAQIfwAAAABgAoQ/AAAAADABwh8AAAAAmADhDwAAAABMgPAHAAAAACZA+LsDffjhh5o1a1Z+DwMAAABAAUL4uwMR/gAAAADkNcKfSRiGoQsXLuT3MAAAAADkE8JfPjhx4oSGDBmiMmXKyNPTU8WLF1eTJk309ddfq0WLFvriiy+0f/9+WSwW+yvbqVOnNGLECJUqVUoeHh4qX768Jk6cqPT0dIdzWCwWjRw5UnPnzlW1atXk6empBQsWqFKlSmrfvn2OMZ07d05Wq1WPPfaY068fAAAAwO3nlt8DMKOoqCjt2LFDL774oipXrqwzZ85ox44dSklJ0Zw5czRkyBD98ccfWrFihcNxaWlpatmypf744w/FxMSoVq1a+vbbbzVt2jQlJCToiy++cKj/7LPP9O233+q5555TUFCQAgMDdenSJT355JPau3evKlWqZK/94IMPlJqaSvgDAAAACiiLYRhGfg8iL6Wmpspqtcpms8nX1ze/h5MrHx8fPfroo5o5c2aun0dGRmrXrl1KSkpyaH/77bc1bNgwLVu2TA899JC9ffr06Ro3bpy++uortW3bVtLlmT+r1ap9+/apWLFi9tqzZ8+qVKlSGjhwoMP3CqtXr64SJUpow4YNeXehAAAAQD66G7LB7cSyz3wQFhamBQsWaMqUKYqPj9elS5du6LgNGzaocOHCevDBBx3a+/fvL0lav369Q3urVq0cgp90OXgOGDBACxYs0Pnz5+397t69WyNHjvyHVwQAAADgTkf4u00yswzF/ZGilQmHNfalt9SvXz/95z//UXh4uPz8/NSvXz8lJydfs4+UlBQFBQU5fAdQkgIDA+Xm5qaUlBSH9uDg4Fz7efzxx3X27FktXrxYkvTGG2+odOnS6tKlyy1cIQAAAIA7Gd/5uw1idx1VzKrdOmpLs7cFB92vuavHK9T3kj7//HONHz9ex48fV2xs7FX78ff315YtW2QYhkMAPH78uDIyMhQQEOBQf2VIzFaxYkV16NBBb775pjp06KDPP/9cMTExcnV1vcUrBQAAAHCnYubPyWJ3HdXwRTscgp8kJdvSNHzRDu1OddfIkSPVtm1b7dixQ5Lk6emZ62MZWrdurXPnzumzzz5zaP/ggw/sn9+oJ554Qjt37tQjjzwiV1dXDR48+CavDAAAAMDdhJk/J8rMMhSzarf+vqNOVvp5HVvyjLyrNZeHf2k9NXuPdlbOVGxsrLp16yZJqlmzppYvX6633npL9evXl4uLixo0aKB+/frpzTff1COPPKKkpCTVrFlT3333naZOnaqOHTuqTZs2Nzy2tm3bKjQ0VBs3blTfvn0VGBiYx1cPAAAA4E5C+HOirftO5Zjxs7h6yCO4ss7/skE223GdyMrUm/eU0bhx4/T0009Lujwr98svv+iZZ56RzWaTYRgyDENeXl7auHGjJk6cqFdeeUUnTpxQqVKlNHbsWE2ePPmmx9ejRw9FR0ez0QsAAABgAjzqwYlWJhzWEx8lXLdudq866lKnlPMHdIUGDRrIYrFo27Ztt/3cAAAAgLPdSdngTsDMnxMF+njlaV1eSE1N1a5du7R69Wr98MMPOR4kDwAAAKBgIvw5UVg5PwVbvZRsS1Nu06sWSUFWL4WV87ttY9qxY4datmwpf39/TZ48WV27dr1t5wYAAACQfwh/TuTqYtHkzqEavmiHLJJDAMx+CMPkzqFydcn9kQzO0KJFCxWwlb4AAAAAbgCPenCyiBrBeqtvPQVZHZd2Blm99FbfeoqokfuD2AEAAAAgLzHzdxtE1AhW29Agbd13SsfPpinQ5/JSz9s54wcAAADA3Ah/t4mri0XhFfzzexgAAAAATIplnwAAAABgAoQ/AAAAADABwh8AAAAAmADhDwAAAABMgPAHAAAAACZA+AMAAAAAEyD8AQAAAIAJEP4AAAAAwAQIfwAAAABgAoQ/AAAAADABwh8AAAAAmADhDwAAAABMgPAHAAAAACZA+AMAAAAAEyD8AQAAAIAJEP4AAAAAwAQIfwAAAABgAoQ/AAAAADABwh8AAAAAmADhDwAAAABMgPAHAAAAACZA+AMAAAAAEyD8AQAAAIAJEP4AAAAAwAQIfwAAAABgAoQ/AAAAADABwh8AAAAAmADhDwAAAABMgPAHAAAAACZA+AMAAAAAEyD8AQAAAIAJEP4AAAAAwAQIfwAAAABgAoQ/AAAAADABwh8AAAAAmADhDwAAAABMgPAHAAAAACbg9PA3Z84clStXTl5eXqpfv76+/fbba9Z/8803ql+/vry8vFS+fHnNnTvX2UMEAAAAgALPqeFv6dKlevLJJzVx4kT9+OOPatq0qTp06KADBw7kWr9v3z517NhRTZs21Y8//qhnnnlGo0aN0qeffurMYQIAAABAgWcxDMNwVucNGzZUvXr19NZbb9nbqlWrpq5du2ratGk56seNG6fPP/9ciYmJ9rZhw4bpp59+Ulxc3A2dMzU1VVarVTabTb6+vrd+EQAAAADuSmQDR06b+bt48aJ++OEHtWvXzqG9Xbt22rx5c67HxMXF5ahv3769tm/frkuXLuV6THp6ulJTUx1eAAAAAABHTgt/J0+eVGZmpkqUKOHQXqJECSUnJ+d6THJycq71GRkZOnnyZK7HTJs2TVar1f4qU6ZM3lwAAAAAABQgTt/wxWKxOLw3DCNH2/Xqc2vPNmHCBNlsNvvr4MGDtzhiAAAAACh43JzVcUBAgFxdXXPM8h0/fjzH7F62oKCgXOvd3Nzk7++f6zGenp7y9PTMm0EDAAAAQAHltJk/Dw8P1a9fX+vWrXNoX7dunRo3bpzrMeHh4Tnqv/rqKzVo0EDu7u7OGioAAAAAFHhOXfY5ZswY/ec//9G8efOUmJio0aNH68CBAxo2bJiky0s2+/XrZ68fNmyY9u/frzFjxigxMVHz5s3Te++9p7FjxzpzmAAAAABQ4Dlt2ack9ezZUykpKXr++ed19OhR1ahRQ2vWrFHZsmUlSUePHnV45l+5cuW0Zs0ajR49Wm+++aZKliypf//73+revbszhwkAAAAABZ5Tn/OXH3iWBwAAAACJbHAlp+/2CQAAAADIf4Q/AAAAADABwh8AAAAAmADhDwAAAABMgPAHAAAAACZA+AMAAAAAEyD8AQAAAIAJEP5MKCkpSRaLRQsWLMjvoQAAAAC4TdzyewC4/YKDgxUXF6cKFSrk91AAAAAA3CaEPxPy9PRUo0aN8nsYAAAAAG4jln3eJtHR0bJYLNq5c6ceeughWa1W+fn5acyYMcrIyNCePXsUEREhHx8fhYSEaPr06Q7HHzhwQH379lVgYKA8PT1VrVo1vfrqq8rKypIkXbp0SYGBgYqKispx7jNnzqhQoUIaM2aMpKsv+9y7d6/69OnjcI4333zTOTcEAAAAwG1F+LvNevToodq1a+vTTz/V4MGDNXPmTI0ePVpdu3ZVp06dtGLFCrVq1Urjxo3T8uXLJUknTpxQ48aN9dVXX+mFF17Q559/rjZt2mjs2LEaOXKkJMnd3V19+/bVp59+qtTUVIdzLlmyRGlpaRowYMBVx7V7927de++92rVrl1599VWtXr1anTp10qhRoxQTE+O8GwIAAADgtmDZ5202ZMgQ+wxcmzZt9NVXX+mNN97Q8uXL9cADD0iSWrRoodWrV2vx4sXq1q2bXnvtNR0+fFhbtmxRWFiYJKl9+/bKzMzU3Llz9eSTT6py5coaMGCAZs6cqaVLl2rw4MH2cy5YsED169dXzZo1rzquMWPGyMfHR9999518fX0lSW3btlV6erpeeukljRo1SsWKFXPWbQEAAADgZMz83WaRkZEO76tVqyaLxaIOHTrY29zc3FSxYkXt379fkrRhwwaFhobag1+2/v37yzAMbdiwQZJUs2ZN1a9fX/Pnz7fXJCYmauvWrRo4cOBVx5SWlqb169frgQcekLe3tzIyMuyvjh07Ki0tTfHx8bd87QAAAADyD+HPiTKzDMX9kaKVCYd18NRfkiQ/Pz+HGg8PD3l7e8vLyytHe1pamiQpJSVFwcHBOfovWbKk/fNsAwcOVFxcnH799VdJ0vz58+Xp6anevXtfdZwpKSnKyMjQ66+/Lnd3d4dXx44dJUknT5682csHAAAAcAdh2aeTxO46qphVu3XUdjnAndlxSJK0PjFZPZsG3FRf/v7+Onr0aI72I0eOSJICAv7XX+/evTVmzBgtWLBAL774ohYuXKiuXbtec8lmsWLF5OrqqqioKD322GO51pQrV+6mxgwAAADgzkL4c4LYXUc1fNEOGbl89q+Pd8pazF8RNXLO5F1N69atNW3aNO3YsUP16tWzt3/wwQeyWCxq2bKlva1YsWLq2rWrPvjgA4WHhys5OfmaSz4lydvbWy1bttSPP/6oWrVqycPD44bHBgAAAODuwLLPPJaZZShm1e5cg1+2mFW7lZl1rQpHo0ePVqlSpdSpUye9++67+uqrr/TEE09ozpw5Gj58uCpXruxQP3DgQB09elQjR45U6dKl1aZNm+ueY/bs2Tpw4ICaNm2qBQsWaNOmTVq1apVmzpypVq1a3fBYAQAAANyZmPnLY1v3nbIv9cyNIemoLU1b951SeAX/G+qzePHi2rx5syZMmKAJEyYoNTVV5cuX1/Tp0+07h/5dmzZtVKZMGR08eFATJ06Ui8v1M35oaKh27NihF154Qc8++6yOHz+uokWLqlKlSvbv/QEAAAC4e1kMw7jxKai7QGpqqqxWq2w2m/2RBbfTyoTDeuKjhOvWze5VR13qlHL+gAAAAACTyu9scKdh2WceC/Txun7RTdQBAAAAQF4g/OWxsHJ+CrZ6yXKVzy2Sgq1eCivnd5UKAAAAAMh7hL885upi0eTOoZKUIwBmv5/cOVSuLleLhwAAAACQ9wh/ThBRI1hv9a2nIKvj0s4gq5fe6lvvph7zAAAAAAB5gd0+nSSiRrDahgZp675TOn42TYE+l5d6MuMHAAAAID8Q/pzI1cVyw49zAAAAAABnYtknAAAAAJgA4Q8AAAAATIDwBwAAAAAmQPgDAAAAABMg/AEAAACACRD+AAAAAMAECH8AAAAAYAKEPwAAAAAwAcIfAAAAAJgA4Q8AAAAATIDwBwAAAAAmQPgDAAAAABMg/AEAAACACRD+AAAAAMAECH8AAAAAYAKEPwAAAAAwAcIfAAAAAJgA4Q8AAAAATIDwBwAAAAAmQPgDAAAAABMg/AEAAACACRD+AAAAAMAECH8AAAAAYAKEPwAAAAAwAcIfAAAAAJgA4Q8AAAAATIDwBwAAAAAmQPgDAAAAABMg/AEAAACACRD+AAAAAMAECH8AAAAAYAKEPwAAAAAwAcIfAAAAAJgA4Q8AAAAATIDwBwAAAAAmQPgDAAAAABMg/OG6WrRooRYtWuT3MAAAAADcAsIfAAAAAJgA4Q8AAAAATIDwd4dauXKlatWqJU9PT5UvX16zZ89WdHS0LBaLvSYtLU0TJkxQuXLl5OHhoVKlSumxxx7TmTNnHPrKysrS9OnTVbVqVXl6eiowMFD9+vXToUOHHOoMw9D06dNVtmxZeXl5qV69evryyy9vx+UCAAAAcDK3/B4AcoqNjVW3bt3UrFkzLV26VBkZGZoxY4aOHTtmrzEMQ127dtX69es1YcIENW3aVDt37tTkyZMVFxenuLg4eXp6SpKGDx+ud955RyNHjlRkZKSSkpI0adIkbdq0STt27FBAQIAkKSYmRjExMRo0aJAefPBBHTx4UIMHD1ZmZqaqVKmSL/cCAAAAQN6wGIZh5Pcg8lJqaqqsVqtsNpt8fX3zezj/SFhYmJKTk/X777/Lw8NDknTu3DmFhIQoJSVFhmFo7dq1ioiI0PTp0/Wvf/3LfuyyZcvUs2dPvfPOOxo8eLB+/fVXVatWTSNGjNCbb75pr9u6dasaNmyoZ555Ri+++KLOnDmj4OBgdejQQcuXL7fXbd68WU2aNFHz5s21adOm23YPAAAAgFtVELJBXmLZ5x3m/Pnz2r59u7p27WoPfpJUpEgRde7c2f5+w4YNkqT+/fs7HP/QQw+pcOHCWr9+vSRp48aNudaFhYWpWrVq9rq4uDilpaXp4Ycfdqhr3LixypYtmyfXBgAAACD/sOzzDpCZZWjrvlM6fjZNOndKhmGoRIkSOer+3paSkiI3NzcVL17cocZisSgoKEgpKSn2OkkKDg7O0V/JkiW1f/9+h7qgoKAcdbm1AQAAALi7EP7yWeyuo4pZtVtHbWmSpKyLaZLFoq27/8xRm5ycbP9vf39/ZWRk6MSJEw4B0DAMJScn695777XXSdLRo0dVunRph/6OHDli/75fdt3fz/H384aEhNzCVQIAAADIbyz7zEexu45q+KId9uAnSS4eXvIIqqgvVq3Sqh/329vPnTun1atX29+3bt1akrRo0SKHPj/99FOdP3/e/nmrVq1yrdu2bZsSExPtdY0aNZKXl5cWL17sULd582b77CAAAACAuxczf/kkM8tQzKrdym23naL39dXxT2LUt3sXzZ8xWYaRpVdeeUVFihTRqVOnJElt27ZV+/btNW7cOKWmpqpJkyb23T7r1q2rqKgoSVKVKlU0ZMgQvf7663JxcVGHDh3su32WKVNGo0ePliQVK1ZMY8eO1ZQpU/Too4/qoYce0sGDBxUdHc2yTwAAAKAAYLfPfBL3R4p6vxt/1c//+i1OZ75bLJ05ouDgII0YMUJHjhzRwoUL7QEwLS1N0dHR+uijj+xLOLt27aqpU6eqaNGi9r6ysrI0Y8YMvffee9q3b5+sVqsiIiI0bdo0h6WghmHo5Zdf1pw5c3Ts2DFVrVpVL774ombMmCFJ7PYJAACAu8rdkg1uF8JfPlmZcFhPfJRw3brZveqoS51SunTpkurUqaNSpUrpq6++cv4AAQAAgLvc3ZINbheWfeaTQB+va35+cs1sFQqpo8O7M7V0z3eaO3euEhMTNXv27Ns0QgAAAAAFCeEvn4SV81Ow1UvJtrRcv/dnXLyg1G/ma/Ta2XJ3d1e9evW0Zs0atWnT5raPFQAAAMDdj/CXT1xdLJrcOVTDF+2QRXIIgBZJgV3H662+9RRRI+fz+QAAAADgZvGoh3wUUSNYb/WtpyCr4xLQIKsXwQ8AAABAnmLmL59F1AhW29Agbd13SsfPpinQx0th5fzk6mLJ76EBAAAAKEAIf3cAVxeLwiv45/cwAAAAABRgLPsEAAAAABMg/AEAAACACRD+AAAAAMAECH8AAAAAYAKEPwAAAAAwAcIfAAAAAJiA08Lf6dOnFRUVJavVKqvVqqioKJ05c+aaxyxfvlzt27dXQECALBaLEhISnDU8AAAAADAVp4W/Pn36KCEhQbGxsYqNjVVCQoKioqKuecz58+fVpEkTvfTSS84aFgAAAACYklMe8p6YmKjY2FjFx8erYcOGkqR3331X4eHh2rNnj6pUqZLrcdnhMCkpyRnDAgAAAADTcsrMX1xcnKxWqz34SVKjRo1ktVq1efNmZ5wSAAAAAHANTpn5S05OVmBgYI72wMBAJScn5+m50tPTlZ6ebn+fmpqap/0DAAAAQEFwUzN/0dHRslgs13xt375dkmSxWHIcbxhGru23Ytq0afZNZaxWq8qUKZOn/QMAAABAQXBTM38jR45Ur169rlkTEhKinTt36tixYzk+O3HihEqUKHFzI7yOCRMmaMyYMfb3qampBEAAAAAAuMJNhb+AgAAFBARcty48PFw2m01bt25VWFiYJGnLli2y2Wxq3LjxPxvpVXh6esrT0zNP+wQAAACAgsYpG75Uq1ZNERERGjx4sOLj4xUfH6/BgwcrMjLSYafPqlWrasWKFfb3p06dUkJCgnbv3i1J2rNnjxISEvL8e4IAAAAAYDZOe87f4sWLVbNmTbVr107t2rVTrVq1tHDhQoeaPXv2yGaz2d9//vnnqlu3rjp16iRJ6tWrl+rWrau5c+c6a5gAAAAAYAoWwzCM/B5EXkpNTZXVapXNZpOvr29+DwcAAABAPiEbOHLazB8AAAAA4M5B+AMAAAAAEyD8AQAAAIAJEP4AAAAAwAQIfwAAAABgAoQ/AAAAADABwh8AAAAAmADhDwAAAABMgPAHAAAAACZA+AMAAAAAEyD8AQAAAIAJEP4AAAAAwAQIfwAAAABgAoQ/AAAAADABwh8AAAAAmADhDwAAAABMgPAHAAAAACZA+AMAAAAAEyD8AQAAAIAJEP4AAAAAwAQIfwAAAABgAoQ/AAAAADABwh8AAAAAmADhDwAAAABMgPAHAAAAACZA+AMAAAAAEyD8AQAAAIAJEP4AAAAAwAQIfwAAAABgAoQ/AAAAADABwh8AAAAAmADhDwAAAABMgPAHAAAAACZA+AMAAAAAEyD8AQAAAIAJEP4AAAAAwAQIfwAAAABgAoQ/AAAAADABwh8AAAAAmADhDwAAAABMgPAHAAAAACZA+AMAAAAAEyD8AQAAAIAJEP4AAAAAwAQIfwAAAABgAoQ/AAAAADABwh8AAAAAmADhDwAAAABMgPAHAAAAACZA+AMAAAAAEyD8AQAAAIAJEP4AAAAAwAQIfwAAAABgAoQ/AAAAADABwh8AAAAAmADhDwAAAABMgPAHAAAAACZA+AMAAAAAEyD8AQAAAIAJEP4AAAAAwAQIfwAAAABgAoQ/AAAAADABwh8AAAAAmADhDwAAAABMgPAHAAAAACZA+AMAAAAAEyD8AQAAAIAJEP4AAAAAwAQIfwAAAABgAoQ/AAAAADABwh8AAAAAmADhDwAAAABMgPAHAAAAACZA+AMAAAAAEyD8AQAAAIAJEP4AAAAAwAQIfwAAAABgAoQ/AAAAADABwh8AAAAAmADhDwAAAABMgPAHAAAAACZA+AMAAAAAEyD8AQAAAIAJEP4AAAAAwAQIfwAAAABgAoQ/AAAAADABwh8AAAAAmIDTwt/p06cVFRUlq9Uqq9WqqKgonTlz5qr1ly5d0rhx41SzZk0VLlxYJUuWVL9+/XTkyBFnDRF3oOjoaFksFp08eTK/hwIAAAAUKE4Lf3369FFCQoJiY2MVGxurhIQERUVFXbX+r7/+0o4dOzRp0iTt2LFDy5cv12+//ab777/fWUMEAAAAANNwc0aniYmJio2NVXx8vBo2bChJevfddxUeHq49e/aoSpUqOY6xWq1at26dQ9vrr7+usLAwHThwQPfcc48zhgoAAAAApuCUmb+4uDhZrVZ78JOkRo0ayWq1avPmzTfcj81mk8ViUdGiRZ0wStzJjh07pt69e8tqtapEiRIaOHCgbDabJCkpKUkWi0ULFizIcZzFYlF0dLRD28qVK1WrVi15enqqfPnymj17tn156d8ZhqE5c+aoTp06KlSokIoVK6YHH3xQf/75p7MuEwAAALhtnDLzl5ycrMDAwBztgYGBSk5OvqE+0tLSNH78ePXp00e+vr5XrUtPT1d6err9fWpq6s0PGHec7t27q2fPnho0aJB+/vlnTZgwQZI0b968m+onNjZW3bp1U7NmzbR06VJlZGRoxowZOnbsWI7aoUOHasGCBRo1apRefvllnTp1Ss8//7waN26sn376SSVKlMiTawMAAADyw02Fv+joaMXExFyzZtu2bZKUY1ZFujyzklv7lS5duqRevXopKytLc+bMuWbttGnTrjsm3H0GDRqkf/3rX5KkNm3a6Pfff9e8efP03nvv3VQ/zz33nEqVKqW1a9fKw8NDkhQREaGQkBCHuvj4eL377rt69dVXNWbMGHt706ZNVblyZb322mt6+eWXb+2iAAAAgHx0U+Fv5MiR6tWr1zVrQkJCtHPnzlxnVk6cOHHd2ZNLly6pR48e2rdvnzZs2HDNWT9JmjBhgsNf1lNTU1WmTJlrHoM735Ub/dSqVUtpaWk6fvz4Dfdx/vx5bd++XSNHjrQHP0kqUqSIOnfu7LBsdPXq1bJYLOrbt68yMjLs7UFBQapdu7Y2bdr0j68FAAAAuBPcVPgLCAhQQEDAdevCw8Nls9m0detWhYWFSZK2bNkim82mxo0bX/W47OC3d+9ebdy4Uf7+/tc9l6enpzw9PW/8InBHycwytHXfKR0/m6ZAHy9lGYYk5fjZZ/+ML1y4cMN9nz59WoZh5PoPDle2HTt27Kq1klS+fPkbPi8AAABwJ3LKd/6qVaumiIgIDR48WG+//bYkaciQIYqMjHTY6bNq1aqaNm2aHnjgAWVkZOjBBx/Ujh07tHr1amVmZtq/H+jn5+cwc4OCIXbXUcWs2q2jtjR7W8a2fdc9zsvLS5IcvuspSSkpKQ7vixUrJovFkuss9JXfPQ0ICJDFYtG3336b6z8m8A8MAAAAuNs57Tl/ixcvVs2aNdWuXTu1a9dOtWrV0sKFCx1q9uzZY9/B8dChQ/r888916NAh1alTR8HBwfbXzewQirtD7K6jGr5oh0Pwk6Rz6ZeXXK5PvPrGQCVKlJCXl5d27tzp0L5y5UqH94ULF1aDBg302Wef6eLFi/87x7lzWr16tUNtZGSkDMPQ4cOH1aBBgxyvmjVr/qPrBAAAAO4UTpn5ky7P1i1atOiaNcb/L/GTLn9X8O/vUXBlZhmKWbVb1/ppv7L2Nz3YpLpcXXJuEJT93bx58+apQoUKql27trZu3aoPP/wwR+3zzz+vTp06qX379nriiSeUmZmpV155RUWKFNGpU6fsdU2aNNGQIUM0YMAAbd++Xc2aNVPhwoV19OhRfffdd6pZs6aGDx+eF5cPAAAA5AunhT/garbuO5Vjxu9Kx1LTtHXfKYVXyP17n6+++qokafr06Tp37pxatWql1atX59jFMyIiQp9++qmee+459ezZU0FBQRoxYoSOHDmSYyb67bffVqNGjfT2229rzpw5ysrKUsmSJdWkSRP7d1cBAACAu5XFKGDTbampqbJarbLZbNfdKRT5Y2XCYT3xUcJ162b3qqMudUrl+fkvXbqkOnXqqFSpUvrqq6/yvH8AAADcGcgGjpj5w20X6OOVp3XXM2jQILVt21bBwcFKTk7W3LlzlZiYqNmzZ+dJ/wAAAMDdgPCH2y6snJ+CrV5KtqXl+r0/i6Qgq5fCyvnlyfnOnj2rsWPH6sSJE3J3d1e9evW0Zs0atWnTJk/6BwAAAO4GhD/cdq4uFk3uHKrhi3bIIjkEwOztXSZ3Ds11s5d/YtmyZXnSDwAAAHA3c9qjHoBriagRrLf61lOQ1XFpZ5DVS2/1raeIGsH5NDIAAACgYGLmD/kmokaw2oYGaeu+Uzp+Nk2BPpeXeubVjB8AAACA/2HmD/nK1cWi8Ar+6lKnlMIr+P/j4LdgwQJZLBYlJSXd1HFHjhxRdHS0EhIS/tF5r7RmzRpFR0fnSV9XmjNnjqpWraoWLVo4tCclJclisWjBggVOOS8AAAAKBsIfCoROnTopLi5OwcE3t1z0yJEjiomJydPwFxMTkyd9XWnOnDny9fXVnDlzHNqDg4MVFxenTp06OeW8AAAAKBhY9okCoXjx4ipevHh+D8PuwoUL8vLyksWSN0tY//rrL0mSt7e3QkNDHT7z9PRUo0aN8uQ8AAAAKLiY+UOB0LVrV1ksFn355Zd66KGH5ObmJldXV/Xp00f33XefChUqJG9vb3l6eqps2bKaPn26Nm3apHvvvVeSNGDAAFksFlksFvuyzaSkJLm4uCg0NFR+fn7y8vJSYGCgAgMD5eXlJT8/PzVo0EDDhg2TxWJR27Zt9eabb0q6HNJcXFxksVj0xhtvKDw8XIULF5anp6d8fHzk6empYsWK6cEHH9Sff/6pP//8U7169VLJkiXl4uIiNzc31a9fX7Vr15a3t7eKFy+uX375Rd988419nCEhIZKkhIQEWSwWFStWTB4eHipfvryaNm0qi8WiX375Rb1795avr68sFouaNm0qm83mcO8sFovq1q0rPz8/FSlSRG3btlWvXr1ksVjk6uqq4sWLq0mTJvr6669v288TAAAAeY/whwJl5MiRql27tqpXry5PT08tWbJE7u7uKl68uOrXr6+LFy+qbNmyGjdunA4dOqT58+dLktzd3bVu3TrFxcXp0UcflSSNHz9ehmHIarVq7ty5at26tU6dOqUTJ07oySef1MKFC/XQQw/p3LlzkqSff/5Z5cqVkyRNnTpV3333nYYOHapRo0YpNDRUTZs2VWZmpnx8fOTi4qJnnnlGv/zyixo3bqz27dvrhx9+0PTp01WrVi0VKlRIe/fuVYsWLbRmzRrNnj1b5cuXV5EiRVS3bl3FxcVpxYoVSktLU+/evSVJ7du31xdffKG+ffvq+++/lyR1795dlStXti8VjY+P1+jRo+33KysrS5K0a9cujRs3TitWrNC+ffv0ySefSJKioqL0n//8R23atFFKSoqzf3wAAABwJqOAsdlshiTDZrPl91BwG3Xp0sWQZEycONEwDMNo3ry5IcmoVKmSIclYvny5YRiGERoaarRr184oXry40a1bN2Pbtm2GJMNisRgzZ86093fhwgXD1dXV8PPzMy5dumQYhmHUqFHD6Nq1qxEZGWkEBwcbmZmZhmEYxvz58w1JRr9+/YzHHnvMyP5jdeDAAcPNzc14/PHHjbi4OEOS8eqrrxpnz541goKCjB49ehgHDx40vLy8DEnGrFmzHMa+fv16h2usXr26YbVajebNm9vb5s6da+jyoxKN+fPn29vbtGljSDIeffRRwzAMY9++fYYko1WrVoaXl5eRlZVlGIZhfPHFF4Yko1OnTvZjixQpYjRp0sSQZEyePPkWfzIAAAD5h2zgiJk/FCitWrWy/3dQUJAaNGggi8WiDh06SJJq1aqlAwcOqGLFitq/f7+9tnbt2pozZ44M4/Ij52fOnKnMzEz169dPkpSRkaEGDRpozZo1unjxoo4ePaqffvrJ4dzdu3d3eL927VplZGSoX79++vzzzyVJvXr1kpubm5o1a6ZNmzYpKChItWvXlqenp1555RW99tprOnv2rIoWLepwLVezYcMGFSpUKEd7nTp1cq0vXbq00tLSdPz4cUnSN998I0mqXr26vSYsLEw///yzJOnQoUO6dOnSdccBAACAOx/hD3elzCxD3/9+UjPW7tGMtb8q5dxFSVLRokXtNf7+/vLw8JC3t7e8vC4/TN7T01MXLlyQh4eH0tLS7LVt27bV3r17tW7dOkmyPzZh1qxZcnd3l7u7uxYsWKCLFy/qq6++kiQ1atRIXbt21bFjxyQpx06j2e333nuvpk2bJkkqVaqUChUqpGXLlun48eNyd3fXli1bFBgYqPbt22v69OnasWOHzp49q1GjRuns2bPXvA8pKSm5bnRTuHBhSXK4Runy8lbp8oY02cdLcgiQS5cuVVRUlCTpvffek5+fn/r166fk5ORrjgUAAAB3Nnb7xF0ndtdRjV/+s8789b8ZqeP7T0mSvv/9hOrVu/k+Q0NDVaNGDb3xxhsqUqSIfvvtN0nShAkT1K1btxz1KSkp+vPPPxUTE6MtW7ZIUo6dPQMCAiRJn3zyiVatWqX3339f//nPf+wBLPu80uVQWrNmTUmXZ97279+vOXPm6OLFi5o7d+5Vx+3v76+4uLgc7efPn5ck+fn5SZI9/F45i+ft7S3pf2Ewe9xjx47Vm2++qSeffFIVKlTQ+PHjdfz4ccXGxl51LAAAALizEf5wV4nddVTDFu246udT1/yqSqG1brg/T09PSZfDz6hRozRs2DDZbDaVKFFCPj4++umnnzR16tSrHv/bb79p1qxZufbXvn17ubm56Y8//tDgwYP1/vvvy8fHRz169LjmmLJ39yxZsqR27PjftXp6eto3aMnWunVrLVu2LEcf2UtSmzVrJkkqUaKEvLy8dOjQIYc6F5fLk/+7du1yaP/oo48kSVarVSNHjtT69evtm8gAAADg7kT4w10jM8tQ9Oe7r1sX/fkv8rzBPitUqKBChQpp8eLFmjRpknx8fPTf//5Xzz77rFq1aqUOHTqoffv26t+/v55//nnVrVtXrq6uOnjwoHr37q2FCxeqQoUK+uOPPyTJPnv38ssvq0OHDhoyZIgmTpyoQYMGqV27durXr58WLVokV1dX+fr6qn379lq5cqV27NihUaNGqVKlSjp9+rSOHTumU6dOafz48fax1qxZUz/++KOOHz+ubdu2ycvLS/369dPMmTP166+/au3atSpdurS+++47rV+/XpLUvHlzSZdnJfv27Wtfzvr9999ryZIl9sc3fPXVV3r55ZdVtWpVDR8+3D5DeODAAc2YMUOxsbG5zoACAADg7mExsne4KCBSU1NltVpls9nk6+ub38NBHor7I0W9343P9bPjn76gC79vUdAjs+QZVFF+G6fq4nmbGjRooE8++cT+OIb+/ftr06ZNCgkJ0cmTJ7Vr1y599NFHiomJ0R9//KFLly7JYrHo4MGDKlWqlHbu3KkXX3xRmzZt0smTJ+Xq6mrfFOaee+5Rly5dVL58eT3++OPatm2batWqpccee0wrV67UyZMnZRiG3n77bX300Uf64Ycf9Ndff8nFxUWZmZlydXVVmTJlVK9ePaWlpWnv3r06ePCg0tLS5ObmppdeekmPP/64XF1dJUn79+9X3bp1lZqaqszMTJUtW1ZJSUlKSEhQ3bp1ZbVadf78eZUqVUplypTRd999pxMnTtiXn6ampqpz587673//q0KFCqlNmzZ6/fXXFRISojp16igpKUkXL160P9Pw999/l7u7u8qXL69evXrp6aefti8TBQAAuBuQDRwR/nDXWJlwWE98lHBDtbN71VGXOqVuqv+LFy8qJCRE9913X65LKc3kww8/1MMPP6zvv/9ejRs3zu/hAAAA/CNkA0cs+8RdI9DHyym1J06c0J49ezR//nwdO3bMYamlGSxZskSHDx9WzZo15eLiovj4eL3yyitq1qwZwQ8AAKAAIfzhrhFWzk9Bvl5KTk27Zl2Qr6fCyvndcL9ffPGFBgwYoODgYM2ZM0f1/sl2oXcxHx8fffTRR5oyZYrOnz+v4OBg9e/fX1OmTMnvoQEAACAPsewTd5Xr7fYpSXP71lNEjeBr1gAAAKDgIxs44iHvuKtE1AjW3L71VNTbPcdnRb3dCX4AAADAVbDsE3ediBrBahsapPg/UxT3R4okQ+HlA9Sogr9cXSzXPR4AAAAwI8If7kquLhY1qRigJhUD8nsoAAAAwF2BZZ8AAAAAYAKEPwAAAAAwAcIfAAAAAJgA4Q8AAAAATIDwBwAAAAAmQPgDAAAAABMg/AEAAACACRD+AAAAAMAECH8AAAAAYAKEPwAAAAAwAcIfAAAAAJgA4Q8AAAAATIDwBwAAAAAmQPgDAAAAABMg/AEAAACACRD+AAAAAMAECH8AAAAAYAKEPwAAAAAwAcIfAAAAAJgA4Q8AAAAATIDwBwAAAAAmQPgDAAAAABMg/AEAAACACRD+AAAAAMAECH8AAAAAYAKEPwAAAAAwAcIfAAAAAJgA4Q8AAAAATIDwBwAAAAAmQPgDAAAAABMg/AEAAACACRD+gHy0YMECWSwWJSUl5fdQAAAAUMAR/gAAAADABAh/QAHx119/5fcQAAAAcAcj/AF3kHXr1qlLly4qXbq0vLy8VLFiRQ0dOlQnT550qIuOjpbFYtGOHTv04IMPqlixYqpQoYIkKT09XU899ZSCgoLk7e2tZs2a6YcfflBISIj69+/v0E9ycrKGDh2q0qVLy8PDQ+XKlVNMTIwyMjJu1yUDAADgNnHL7wEA+J8//vhD4eHhevTRR2W1WpWUlKTXXntN9913n37++We5u7s71Hfr1k29evXSsGHDdP78eUnSgAEDtHTpUj399NNq1aqVdu/erQceeECpqakOxyYnJyssLEwuLi567rnnVKFCBcXFxWnKlClKSkrS/Pnzb9t1AwAAwPkIf8AdZNiwYfb/NgxDjRs3VosWLVS2bFl9+eWXuv/++x3qH3nkEcXExNjf7969W0uWLNG4ceM0bdo0SVLbtm1VokQJ9e7d2+HY6OhonT59Wr/88ovuueceSVLr1q1VqFAhjR07Vv/6178UGhrqrEsFAADAbcayT+AOcvz4cQ0bNkxlypSRm5ub3N3dVbZsWUlSYmJijvru3bs7vP/mm28kST169HBof/DBB+Xm5vhvPatXr1bLli1VsmRJZWRk2F8dOnRw6AsAAAAFAzN/wG2UmWVo675TOn42TYE+XsrKMuyfZWVlqV27djpy5IgmTZqkmjVrqnDhwsrKylKjRo104cKFHP0FBwc7vE9JSZEklShRwqHdzc1N/v7+Dm3Hjh3TqlWrciwlzXbl9wwBAABwdyP8AbdJ7K6jilm1W0dtafY219//N5u3a9cu/fTTT1qwYIEeeeQRe/vvv/9+1T4tFovD++yAd+zYMZUqVcrenpGRYQ+G2QICAlSrVi29+OKLufZdsmTJG7gqAAAA3C0If8BtELvrqIYv2iHjinbbhUuSpG/2HFe9koUkSZ6eng41b7/99g2fp1mzZpKkpUuXql69evb2Tz75JMcOnpGRkVqzZo0qVKigYsWK3fA5AAAAcHci/AFOlpllKGbV7hzB7+9mrd+ruBceUoUKFTR+/HgZhiE/Pz+tWrVK69atu+FzVa9eXb1799arr74qV1dXtWrVSr/88oteffVVWa1Wubj872u+zz//vNatW6fGjRtr1KhRqlKlitLS0pSUlKQ1a9Zo7ty5Kl269C1cOQAAAO4khD/AybbuO+Ww1DM3J86m68dDZ7Vq1So98cQTGjp0qNzc3NSmTRt9/fXX9t04b8T8+fMVHBys9957TzNnzlSdOnW0bNkyRUREqGjRova64OBgbd++XS+88IJeeeUVHTp0SD4+PipXrpwiIiKYDQQAAChgLIZhXGtC4q6Tmpoqq9Uqm80mX1/f/B4OoJUJh/XERwnXrZvdq4661Cl13bp/YvPmzWrSpIkWL16sPn36OOUcAAAAdxqygSNm/gAnC/TxytO661m3bp3i4uJUv359FSpUSD/99JNeeuklVapUSd26dcuTcwAAAODuQ/gDnCysnJ+CrV5KtqXl+r0/i6Qgq5fCyvnlyfl8fX311VdfadasWTp79qwCAgLUoUMHTZs2TV5eeRMwAQAAcPch/AFO5upi0eTOoRq+aIcskkMAzH5Qw+TOoXJ1seRy9M1r2LChvvvuuzzpCwAAAAWHy/VLANyqiBrBeqtvPQVZHWfegqxeeqtvPUXUCL7KkQAAAEDeYOYPuE0iagSrbWiQtu47peNn0xToc3mpZ17N+AEAAADXQvgDbiNXF4vCK/jn9zAAAABgQiz7BAAAAAATIPwBAAAAgAkQ/gAAAADABAh/AAAAAGAChD8AAAAAMAHCHwAAAACYAOEPAAAAAEyA8AcAAAAAJkD4AwAAAAATIPwBAAAAgAkQ/gAAAADABAh/AAAAAGACTgt/p0+fVlRUlKxWq6xWq6KionTmzJlrHhMdHa2qVauqcOHCKlasmNq0aaMtW7Y4a4gAAAAAYBpOC399+vRRQkKCYmNjFRsbq4SEBEVFRV3zmMqVK+uNN97Qzz//rO+++04hISFq166dTpw44axhAgAAAIApWAzDMPK608TERIWGhio+Pl4NGzaUJMXHxys8PFy//vqrqlSpckP9pKamymq16uuvv1br1q1v6hibzSZfX99/fA0AAAAA7m5kA0dOmfmLi4uT1Wq1Bz9JatSokaxWqzZv3nxDfVy8eFHvvPOOrFarateufdW69PR0paamOrwAAAAAAI6cEv6Sk5MVGBiYoz0wMFDJycnXPHb16tUqUqSIvLy8NHPmTK1bt04BAQFXrZ82bZr9e4VWq1VlypS55fEDAAAAQEFzU+EvOjpaFovlmq/t27dLkiwWS47jDcPItf3vWrZsqYSEBG3evFkRERHq0aOHjh8/ftX6CRMmyGaz2V8HDx68mUsCAAAAAFNwu5nikSNHqlevXtesCQkJ0c6dO3Xs2LEcn504cUIlSpS45vGFCxdWxYoVVbFiRTVq1EiVKlXSe++9pwkTJuRa7+npKU9Pzxu/CAAAAAAwoZsKfwEBAddcgpktPDxcNptNW7duVVhYmCRpy5Ytstlsaty48U0N0DAMpaen39QxAAAAAABHTvnOX7Vq1RQREaHBgwcrPj5e8fHxGjx4sCIjIx12+qxatapWrFghSTp//ryeeeYZxcfHa//+/dqxY4ceffRRHTp0SA899JAzhgkAAAAApuG05/wtXrxYNWvWVLt27dSuXTvVqlVLCxcudKjZs2ePbDabJMnV1VW//vqrunfvrsqVKysyMlInTpzQt99+q+rVqztrmAAAAABgCk55zl9+4lkeAAAAACSywZWcNvMHAAAAALhzEP4AAAAAwAQIfwAAAABgAoQ/AAAAADABwh8AAAAAmADhDwAAAABMgPAHAAAAACZA+AMAAAAAEyD8AQAAAIAJEP4AAAAAwAQIfwAAAABgAoQ/AAAAADABwh8AAAAAmADhDwAAAABMgPAHAAAAACZA+AMAAAAAEyD8AQAAAIAJEP4AAAAAwAQIfwAAAABgAoQ/AAAAADABwh8AAAAAmADhDwAAAABMgPAHAAAAACZA+AMAAAAAEyD8AQAAAIAJEP4AAAAAwAQIfwAAAABgAoQ/AAAAADABwh8AAAAAmADhDwAAAABMgPAHAAAAACZA+AMAAAAAEyD8AQAAAIAJEP4AAAAAwAQIfwAAAABgAoQ/AAAAADABwh8AAAAAmADhDwAAAABMgPAHAAAAACZA+AMAAAAAEyD8AQAAAIAJEP4AAAAAwAQIfwAAAABgAoQ/AAAAADABwh8AAAAAmADhDwAAAABMgPAHAAAAACZA+AMAAAAAEyD8AQAAAIAJEP4AAAAAwAQIfwAAAABgAoQ/AAAAADABwh8AAAAAmADhDwAAAABMgPAHAAAAACZA+AMAAAAAEyD8AQAAAIAJEP4AAAAAwAQIfwAAAABgAoQ/AAAAADABwh8AAAAAmADhDwBwTQsWLJDFYlFSUlJ+DwUAANwCwh8A4Jo6deqkuLg4BQcH5/dQAADALXDL7wEAAO5sxYsXV/HixfN7GAAA4BYx8wcA+SA6OloWi0U7d+7UQw89JKvVKj8/P40ZM0YZGRnas2ePIiIi5OPjo5CQEE2fPt1+bFpamp566inVqVPHflx4eLhWrlyZ4zwff/yxGjZsKKvVKm9vb5UvX14DBw60f56VlaUpU6aoSpUqKlSokIoWLapatWpp9uzZ9porl30++eSTKly4sFJTU3Ocr2fPnipRooQuXbpkb1u6dKnCw8NVuHBhFSlSRO3bt9ePP/6YF7cRAADcBMIfAOSjHj16qHbt2vr00081ePBgzZw5U6NHj1bXrl3VqVMnrVixQq1atdK4ceO0fPlySVJ6erpOnTqlsWPH6rPPPtOSJUt03333qVu3bvrggw/sfcfFxalnz54qX768PvroI33xxRd67rnnlJGRYa+ZPn26oqOj1bt3b33xxRdaunSpBg0apDNnzlx1zAMHDtRff/2lZcuWObSfOXNGK1euVN++feXu7i5Jmjp1qnr37q3Q0FAtW7ZMCxcu1NmzZ9W0aVPt3r07D+8kAAC4LqOAsdlshiTDZrPl91AA4KomT55sSDJeffVVh/Y6deoYkozly5fb2y5dumQUL17c6NatW659ZWRkGJcuXTIGDRpk1K1b194+Y8YMQ5Jx5syZq44jMjLSqFOnzjXHOn/+fEOSsW/fPntbvXr1jMaNGzvUzZkzx5Bk/Pzzz4ZhGMaBAwcMNzc34/HHH3eoO3v2rBEUFGT06NHjmucFAOBWkQ0cMfMHAPkoMjLS4X21atVksVjUoUMHe5ubm5sqVqyo/fv329s+/vhjNWnSREWKFJGbm5vc3d313nvvKTEx0V5z7733Sro8u7hs2TIdPnw4x/nDwsL0008/acSIEVq7dm2uSzlzM2DAAG3evFl79uyxt82fP1/33nuvatSoIUlau3atMjIy1K9fP2VkZNhfXl5eat68uTZt2nRD5wIAAHmD8AcAt0FmlqG4P1K0MuGw4v5IUZZhSJL8/Pwc6jw8POTt7S0vL68c7WlpaZKk5cuXq0ePHipVqpQWLVqkuLg4bdu2TQMHDrTXSFKzZs302Wef2QNY6dKlVaNGDS1ZssReM2HCBM2YMUPx8fHq0KGD/P391bp1a23fvv2a1/Pwww/L09NTCxYskCTt3r1b27Zt04ABA+w1x44dk3Q5hLq7uzu8li5dqpMnT97kXQQAALeC3T4BwMlidx1VzKrdOmr7XzDL2LbvH/e3aNEilStXTkuXLpXFYrG3p6en56jt0qWLunTpovT0dMXHx2vatGnq06ePQkJCFB4eLjc3N40ZM0ZjxozRmTNn9PXXX+uZZ55R+/btdfDgQXl7e+c6hmLFiqlLly764IMPNGXKFM2fP19eXl7q3bu3vSYgIECS9Mknn6hs2bL/+HoBAEDeIPwBgBPF7jqq4Yt2yLii/Vz65U1X1icmq2fTgJvq02KxyMPDwyH4JScn57rbZzZPT081b95cRYsW1dq1a/Xjjz8qPDzcoaZo0aJ68MEHdfjwYT355JNKSkpSaGjoVfscMGCAli1bpjVr1mjRokV64IEHVLRoUfvn7du3l5ubm/744w917979pq4RAADkPcIfADhJZpahmFW7cwS/v3tl7W96sEl1ubpYrlHlKDIyUsuXL9eIESP04IMP6uDBg3rhhRcUHBysvXv32uuee+45HTp0SK1bt1bp0qV15swZzZ49W+7u7mrevLkkqXPnzqpRo4YaNGig4sWLa//+/Zo1a5bKli2rSpUqXXMc7dq1U+nSpTVixAglJyc7LPmUpJCQED3//POaOHGi/vzzT0VERKhYsWI6duyYtm7dqsKFCysmJuaGrxsAANwawh8AOMnWfacclnrm5lhqmrbuO6XwCv433O+AAQN0/PhxzZ07V/PmzVP58uU1fvx4HTp0yCFMNWzYUNu3b9e4ceN04sQJFS1aVA0aNNCGDRtUvXp1SVLLli316aef6j//+Y9SU1MVFBSktm3batKkSfbHNVyNi4uL+vXrp6lTp6pMmTJq3bp1jpoJEyYoNDRUs2fP1pIlS5Senq6goCDde++9GjZs2A1fMwAAuHUWwzCu9Y/Sd53U1FRZrVbZbDb5+vrm93AAmNjKhMN64qOE69bN7lVHXeqUcv6AAAAwGbKBI3b7BAAnCfTxun7RTdQBAADcCsIfADhJWDk/BVu9dLVv81kkBVu9FFbO7yoVAAAAeYfwBwBO4upi0eTOl3fLvDIAZr+f3Dn0pjZ7AQAA+KcIfwDgRBE1gvVW33oKsjou7QyyeumtvvUUUSM4n0YGAADMht0+AcDJImoEq21okLbuO6XjZ9MU6HN5qSczfgAA4HYi/AHAbeDqYrmpxzkAAADkNZZ9AgAAAIAJEP4AAAAAwAQIfwAAAABgAoQ/AAAAADABwh8AAAAAmADhDwAAAABMgPAHAAAAACbgtPB3+vRpRUVFyWq1ymq1KioqSmfOnLnh44cOHSqLxaJZs2Y5a4gAAAAAYBpOC399+vRRQkKCYmNjFRsbq4SEBEVFRd3QsZ999pm2bNmikiVLOmt4AAAAAGAqbs7oNDExUbGxsYqPj1fDhg0lSe+++67Cw8O1Z88eValS5arHHj58WCNHjtTatWvVqVMnZwwPAAAAAEzHKTN/cXFxslqt9uAnSY0aNZLVatXmzZuvelxWVpaioqL0r3/9S9WrV3fG0AAAAADAlJwy85ecnKzAwMAc7YGBgUpOTr7qcS+//LLc3Nw0atSoGz5Xenq60tPT7e9TU1NvbrAAAAAAYAI3NfMXHR0ti8Vyzdf27dslSRaLJcfxhmHk2i5JP/zwg2bPnq0FCxZctSY306ZNs28qY7VaVaZMmZu5JAAAAAAwBYthGMaNFp88eVInT568Zk1ISIg+/PBDjRkzJsfunkWLFtXMmTM1YMCAHMfNmjVLY8aMkYvL//JoZmamXFxcVKZMGSUlJeV6vtxm/sqUKSObzSZfX98bvTQAAAAABUxqaqqsVivZ4P/d1LLPgIAABQQEXLcuPDxcNptNW7duVVhYmCRpy5Ytstlsaty4ca7HREVFqU2bNg5t7du3V1RUVK5hMZunp6c8PT1v4ioAAAAAwHyc8p2/atWqKSIiQoMHD9bbb78tSRoyZIgiIyMddvqsWrWqpk2bpgceeED+/v7y9/d36Mfd3V1BQUHX3B0UAAAAAHB9TnvO3+LFi1WzZk21a9dO7dq1U61atbRw4UKHmj179shmszlrCAAAAACA/3dT3/m7G7CuFwAAAIBENriS02b+AAAAAAB3DsIfAAAAAJgA4Q8AAAAATIDwBwAAAAAmQPgDAAAAABMg/AEAAACACRD+AAAAAMAECH8AAAAAYAKEPwAAAAAwAcIfAAAAAJgA4Q8AAAAATIDwBwAAAAAmQPgDAAAAABMg/AEAAACACRD+AAAAAMAECH8AAAAAYAKEPwAAAAAwAcIfAAAAAJgA4Q8AAAAATIDwBwAAAAAmQPgDAAAAABMg/AEAAACACRD+AAAAAMAECH8AAAAAYAKEPwAAAAAwAcIfAAAAAJgA4Q8AAAAATIDwBwAAAAAmQPgDAAAAABMg/AEAAACACRD+AAAAAMAECH8AAAAAYAKEPwAAAAAwAcIfAAAAAJgA4Q8AAAAATIDwBwAAAAAmQPgDAAAAABMg/AEAAACACRD+AAAAAMAECH8AAAAAYAKEPwAAAAAwAcIfAAAAAJgA4Q8AAAAATIDwBwAAAAAmQPgDAAAAABMg/AEAAACACRD+AAAAAMAECH8AAAAAYAKEPwAAAAAwAcIfAAAAAJgA4Q8AAAAATIDwBwAAAAAmQPgDAAAAABMg/AEAAACACRD+AAAAAMAECH8AAAAAYAKEPwAAAAAwAcIfAAAAAJgA4Q8AAAAATIDwBwAAAAAmQPgDAAAAABMg/AEAAACACRD+AAAAAMAECH8AAAAAYAKEPwAAAAAwAcIfAAAAAJgA4Q8AAAAATIDwBwAAAAAmQPgDAAAAABMg/AEAAACACRD+AAAAAMAECH8AAAAAYAKEPwAAAAAwAcIfAAAAAJgA4Q8AAAAATIDwBwAAAAAmQPgDAAAAABMg/AEAAACACRD+AAAAAMAECH8AAAAAYAKEPwAAAAAwAcIfAAAAAJgA4Q8AAAAATIDwBwAAAAAmQPgDAAAAABMg/AEAAACACRD+AAAAAMAEnBb+Tp8+raioKFmtVlmtVkVFRenMmTPXPKZ///6yWCwOr0aNGjlriAAAAABgGm7O6rhPnz46dOiQYmNjJUlDhgxRVFSUVq1adc3jIiIiNH/+fPt7Dw8PZw0RAAAAAEzDKeEvMTFRsbGxio+PV8OGDSVJ7777rsLDw7Vnzx5VqVLlqsd6enoqKCjIGcMCAAAAANNyyrLPuLg4Wa1We/CTpEaNGslqtWrz5s3XPHbTpk0KDAxU5cqVNXjwYB0/ftwZQwQAAAAAU3HKzF9ycrICAwNztAcGBio5Ofmqx3Xo0EEPPfSQypYtq3379mnSpElq1aqVfvjhB3l6euZ6THp6utLT0+3vU1NTb/0CAAAAAKCAuamZv+jo6Bwbslz52r59uyTJYrHkON4wjFzbs/Xs2VOdOnVSjRo11LlzZ3355Zf67bff9MUXX1z1mGnTptk3lbFarSpTpszNXBIAAAAAmMJNzfyNHDlSvXr1umZNSEiIdu7cqWPHjuX47MSJEypRosQNny84OFhly5bV3r17r1ozYcIEjRkzxv4+NTWVAAgAAAAAV7ip8BcQEKCAgIDr1oWHh8tms2nr1q0KCwuTJG3ZskU2m02NGze+4fOlpKTo4MGDCg4OvmqNp6fnVZeEAgAAAAAuc8qGL9WqVVNERIQGDx6s+Ph4xcfHa/DgwYqMjHTY6bNq1apasWKFJOncuXMaO3as4uLilJSUpE2bNqlz584KCAjQAw884IxhAgAAAIBpOO0h74sXL1bNmjXVrl07tWvXTrVq1dLChQsdavbs2SObzSZJcnV11c8//6wuXbqocuXKeuSRR1S5cmXFxcXJx8fHWcMEAAAAAFOwGIZh5Pcg8lJqaqqsVqtsNpt8fX3zezgAAAAA8gnZwJHTZv4AAAAAAHcOwh8AAAAAmADhDwAAAABMgPAHAAAAACZA+AMAAAAAEyD8AQAAAIAJEP4AAAAAwAQIfwAAAABgAoQ/AAAAADABwh8AAAAAmADhDwAAAABMgPAHAAAAACZA+AMAAAAAEyD8AQAAAIAJEP4AAAAAwAQIfwAAAABgAoQ/AAAAADABwh8AAAAAmADhDwAAAABMgPAHAAAAACZA+AMAAAAAEyD8AQAAAIAJEP4AAAAAwAQIfwAAAABgAoQ/AAAAADABwh8AAAAAmADhDwAAAABMgPAHAAAAACZA+AMAAAAAEyD8AQAAAIAJEP4AAAAAwAQIfwAAAABgAoQ/AAAAADABwh8AAAAAmADhDwAAAABMgPAHAAAAACZA+AMAAAAAEyD8AQAAAIAJEP4AAAAAwAQIfwAAAABgAoQ/AAAAADABwh8AAAAAmADhDwAAAABMgPAHAAAAACZA+AMAAAAAEyD8AQAAAIAJEP4AAAAAwAQIfwAAAABgAoQ/AAAAADABwh8AAAAAmADhDwAAAABMgPAHAAAAACZA+AMAAAAAEyD8AQAAAIAJEP4AAAAAwAQIfwAAAABgAoQ/AAAAADABwh8AAAAAmADhDwAAAABMgPAHAAAAACZA+AMAAAAAEyD8AQAAAIAJEP4AAAAAwAQIfwAAAABgAoQ/AAAAADABwh8AAAAAmADhDwAAAABMgPAHAAAAACZA+AMAAAAAEyD8AQAAAIAJEP4AAAAAwAQIfwAAAABgAoQ/AAAAADABwh8AAAAAmADhDwAAAABMgPAHAAAAACZA+AMAAAAAEyD8AQAAAIAJEP4AAAAAwAQIfwAAAABgAoQ/AAAAADABwh8AAAAAmADhDwAAAABMgPAHAAAAACZA+AMAAAAAEyD8AQAAAHCapUuXqnr16ipUqJAsFosSEhJu+xisVquSkpKceo6pU6fqs88+y9G+adMmWSwWbdq0yannvxGEPwAAAABOceLECUVFRalChQqKjY1VXFycKleufNvH8fXXXys4ONip57ha+KtXr57i4uJUr149p57/Rrjl9wAAAAAAFEy//fabLl26pL59+6p58+b5No57771Xnp6e+XJuX19fNWrUKF/OfSWnzfydPn1aUVFRslqtslqtioqK0pkzZ657XGJiou6//35ZrVb5+PioUaNGOnDggLOGCQAAAMAJ+vfvr/vuu0+S1LNnT1ksFrVo0ULbt29Xr169FBISokKFCikkJES9e/fW/v37HY7/66+/NHbsWJUrV05eXl7y8/NTgwYNtGTJEoe6LVu2qHPnzvL395eXl5cqVKigJ5980qHmymWfLVq0UI0aNbRt2zY1bdpU3t7eKl++vF566SVlZWXZ69LS0vTUU0+pTp06slqt8vPzU3h4uFauXOnQv8Vi0fnz5/X+++/LYrHYr1XKfdln//79VaRIEf3+++/q2LGjihQpojJlyuipp55Senq6Q9+HDh3Sgw8+KB8fHxUtWlQPP/ywtm3bJovFogULFtzET8SJM399+vTRoUOHFBsbK0kaMmSIoqKitGrVqqse88cff+i+++7ToEGDFBMTI6vVqsTERHl5eTlrmAAAAACcYNKkSQoLC9Njjz2mqVOnqmXLlvL19dXu3btVpUoV9erVS35+fjp69Kjeeust3Xvvvdq9e7cCAgIkSWPGjNHChQs1ZcoU1a1bV+fPn9euXbuUkpJiP8fatWvVuXNnVatWTa+99pruueceJSUl6auvvrru+JKTk/Xwww/rqaee0uTJk7VixQpNmDBBJUuWVL9+/SRJ6enpOnXqlMaOHatSpUrp4sWL+vrrr9WtWzfNnz/fXhcXF6dWrVqpZcuWmjRpkqTLM37XcunSJd1///0aNGiQnnrqKf33v//VCy+8IKvVqueee06SdP78ebVs2VKnTp3Syy+/rIoVKyo2NlY9e/a8+R+IJBlOsHv3bkOSER8fb2+Li4szJBm//vrrVY/r2bOn0bdv31s6t81mMyQZNpvtlvoBAAAAcGs2btxoSDI+/vjjq9ZkZGQY586dMwoXLmzMnj3b3l6jRg2ja9eu1+y/QoUKRoUKFYwLFy7k+nl2NpBk7Nu3z97evHlzQ5KxZcsWh/rQ0FCjffv21xzrpUuXjEGDBhl169Z1+Kxw4cLGI488kuOY7HuwceNGe9sjjzxiSDKWLVvmUNuxY0ejSpUq9vdvvvmmIcn48ssvHeqGDh1qSDLmz59/1bHmxinLPuPi4mS1WtWwYUN7W6NGjWS1WrV58+Zcj8nKytIXX3yhypUrq3379goMDFTDhg1z/dLk36Wnpys1NdXhBQAAAODOdO7cOY0bN04VK1aUm5ub3NzcVKRIEZ0/f16JiYn2urCwMH355ZcaP368Nm3apAsXLjj089tvv+mPP/7QoEGD/tFKwaCgIIWFhTm01apVK8fy048//lhNmjRRkSJF5ObmJnd3d7333nsOY/0nLBaLOnfufM3zf/PNN/Lx8VFERIRDXe/evf/ROZ0S/pKTkxUYGJijPTAwUMnJybkec/z4cZ07d04vvfSSIiIi9NVXX+mBBx5Qt27d9M0331z1XNOmTbN/r9BqtapMmTJ5dh0AAAAAblxmlqG4P1K0MuGw4v5IUWaWkaOmT58+euONN/Too49q7dq12rp1q7Zt26bixYs7BLx///vfGjdunD777DO1bNlSfn5+6tq1q/bu3Svp8k6iklS6dOl/NFZ/f/8cbZ6eng5jWL58uXr06KFSpUpp0aJFiouL07Zt2zRw4EClpaX9o/Nm8/b2zhFaPT09HfpNSUlRiRIlchybW9uNuKnv/EVHRysmJuaaNdu2bZN0OcleyTCMXNsl2b9Y2aVLF40ePVqSVKdOHW3evFlz58696u5AEyZM0JgxY+zvU1NTCYAAAADAbRa766hiVu3WUdv/wot3yq8ONTabTatXr9bkyZM1fvx4e3v2d+v+rnDhwoqJiVFMTIyOHTtmnwXs3Lmzfv31VxUvXlzS5Q1RnGXRokUqV66cli5d6pBjrtyUxVn8/f21devWHO1Xm1C7npua+Rs5cqQSExOv+apRo4aCgoJ07NixHMefOHHiqik1ICBAbm5uCg0NdWivVq3aNXf79PT0lK+vr8MLAAAAwO0Tu+uohi/a4RD8JOnU+YuSpB8PnJZ0eYLIMIwcj134z3/+o8zMzKv2X6JECfXv31+9e/fWnj179Ndff6ly5cqqUKGC5s2b57QwZrFY5OHh4RD8kpOTc+z2KeWcNcwLzZs319mzZ/Xll186tH/00Uf/qL+bmvkLCAiw775zLeHh4bLZbNq6dat9He2WLVtks9nUuHHjXI/x8PDQvffeqz179ji0//bbbypbtuzNDBMAAADAbZKZZShm1W7lXOD5Px9vP6Tnswz5+vqqWbNmeuWVVxQQEKCQkBB98803eu+991S0aFGHYxo2bKjIyEjVqlVLxYoVU2JiohYuXKjw8HB5e3tLkt5880117txZjRo10ujRo3XPPffowIEDWrt2rRYvXnzL1xYZGanly5drxIgRevDBB3Xw4EG98MILCg4Oti8/zVazZk1t2rRJq1atUnBwsHx8fFSlSpVbOv8jjzyimTNnqm/fvpoyZYoqVqyoL7/8UmvXrpUkubjc3Lf4nPKdv2rVqikiIkKDBw9WfHy84uPjNXjwYEVGRjrcgKpVq2rFihX29//617+0dOlSvfvuu/r999/1xhtvaNWqVRoxYoQzhgkAAADgFm3ddyrHjN+VTv91UVv3XV7W+eGHH6ply5Z6+umn1a1bN23fvl3r1q2T1Wp1OKZVq1b6/PPPNWDAALVr107Tp09Xv379HB4d1759e/33v/9VcHCwRo0apYiICD3//PP/+DtxVxowYIBeeuklffnll+rYsaNefvlljR8/Xn369MlRO3v2bFWqVEm9evXSvffeq6FDh97y+QsXLqwNGzaoRYsWevrpp9W9e3cdOHBAc+bMkaQcgfl6LIZhXCuk/2OnTp3SqFGj9Pnnn0uS7r//fr3xxhsOA7RYLJo/f7769+9vb5s3b56mTZumQ4cOqUqVKoqJiVGXLl1u+LypqamyWq2y2WwsAQUAAACcbGXCYT3xUcJ162b3qqMudUo5f0B/U1CzwdSpU/Xss8/qwIEDN7XhjdMe8u7n56dFixZdsya33Dlw4EANHDjQWcMCAAAAkIcCfW7sMQs3WgdHb7zxhqTLqyYvXbqkDRs26N///rf69u170zudOi38AQAAACj4wsr5KdjqpWRbWq7f+7NICrJ6Kayc3+0eWoHg7e2tmTNnKikpSenp6brnnns0btw4Pfvsszfdl9OWfeaXgjq1CwAAANypsnf7lOQQALP3yHyrbz1F1Ai+7eMiGzhyyoYvAAAAAMwjokaw3upbT0FWx6WdQVavfAt+yIllnwAAAABuWUSNYLUNDdLWfad0/GyaAn0uL/V0dbFc/2DcFoQ/AAAAAHnC1cWi8Ar++T0MXAXLPgEAAADABAh/AAAAAGAChD8AAAAAMAHCHwAAAACYAOEPAAAAAEyA8AcAAAAAJkD4AwAAAAATIPwBAAAAgAkQ/gAAAADABAh/AAAAAGAChD8AAAAAMAHCHwAAAACYAOEPAAAAAEyA8AcAAAAAJkD4AwAAAAATIPwBAAAAgAkQ/gAAAADABAh/AAAAAGAChD8AAAAAMAHCHwAAAACYAOEPAAAAAEyA8AcAAAAAJkD4AwAAAAATIPwBAAAAgAkQ/gAAAADABAh/AAAAAGAChD8AAAAAMAG3/B5AXjMMQ5KUmpqazyMBAAAAkJ+yM0F2RjC7Ahf+zp49K0kqU6ZMPo8EAAAAwJ3g7Nmzslqt+T2MfGcxClgMzsrK0pEjR+Tj4yOLxZJv40hNTVWZMmV08OBB+fr65ts4CiLurfNwb52D++o83Fvn4L46D/fWObivznO331vDMHT27FmVLFlSLi58463Azfy5uLiodOnS+T0MO19f37vyD8rdgHvrPNxb5+C+Og/31jm4r87DvXUO7qvz3M33lhm//yH+AgAAAIAJEP4AAAAAwAQIf07i6empyZMny9PTM7+HUuBwb52He+sc3Ffn4d46B/fVebi3zsF9dR7ubcFS4DZ8AQAAAADkxMwfAAAAAJgA4Q8AAAAATIDwBwAAAAAmQPgDAAAAABMg/N2gF198UY0bN5a3t7eKFi16Q8cYhqHo6GiVLFlShQoVUosWLfTLL7841KSnp+vxxx9XQECAChcurPvvv1+HDh1yqDl9+rSioqJktVpltVoVFRWlM2fO5NGV5b9/cn3Hjh1T//79VbJkSXl7eysiIkJ79+61f56UlCSLxZLr6+OPP7bXhYSE5Ph8/PjxzrrU28oZ91WSWrRokeOe9erV65bPfTdxxr09deqUHn/8cVWpUkXe3t665557NGrUKNlsNod++J11dCO/s/x/9p9d37lz5/6vvXsLieprwwD+ehi1zP+glk02aCFh5SGzQIlqKOxE0YVdVAgVlRYhRdGNEZlFYFBGXZRS4lWRohVGJzSmINQOHmoiSs3BoDRDSq1MM5/vQtx+27EaxxlznOcHc+Ha797b9bJ4YM04W0lNTRW9Xi8TJkyQOXPmyIULF5TjzFnH9FWEOSvimN4yZx23ZpmzTgRklSNHjiArKwsHDhyAVqu16pzMzEz4+fmhqKgIJpMJGzduxLRp09De3q7U7N69G9OnT0dJSQmqqqqwbNkyzJs3Dz09PUrN6tWrERkZibKyMpSVlSEyMhLr1q2z9xT/meHOr7e3F/Hx8ViyZAmePHmC169fIyUlBSEhIfj69SsAoKenB01NTapXRkYGfH190dHRoVwrNDQUx44dU9X9/3Fn5oi+AoDBYEBycrKqZ1++fBnRvZ2NI3prMpmQmJiI4uJi1NfX4/79+5g1axY2bNiguhbX7ABr1yxz1rb57dy5E2FhYTAajTCbzcjJyYGHhwdu3LgBgDkLOKavAHMWcExvmbOOW7PMWefBzd8w5eXlWbX56+3thU6nQ2ZmpjL248cPaLVaZGdnAwC+fPkCjUaDq1evKjXv37+Hu7s77t69CwB49eoVRAQVFRVKTXl5OUQEr1+/ttOs/h1b5vfmzRuICF6+fKmM9fT0ICAgABcvXvztvWJiYrB9+3bVWGhoKM6cOTOySYxBjuyrwWDAvn377HpvZzKaa7agoABeXl74+fOnMsY1O8CavjJnbZ9fREQEjh07phqLjY3F4cOHf3sOc9Y+fWXOjt6aZc6OvK/MWefCP/t0ELPZLM3NzbJy5UplzNvbWwwGg5SVlYmISGVlpfz8+VNVExwcLJGRkUpNeXm5aLVaiYuLU2ri4+NFq9UqNc7Mlvl1dXWJiIiPj48y5uHhIV5eXvLo0aMhz6msrJSamhrZsWOHxbGTJ09KYGCgxMTEyIkTJ6S7u3skUxoTHN3Xy5cvy+TJkyUiIkIOHjwoHR0dI7q3MxmtNSsi0tbWJv/99594enqqxrlm+1jTV+as7fNbvHixFBcXy/v37wWAGI1Gqa2tlVWrVg1Zz5y1b1+Zs45fsyLMWXv0lTnrXDz/XkK2aG5uFhGRqVOnqsanTp0qjY2NSo2Xl5f4+/tb1PSf39zcLEFBQRbXDwoKUmqcmS3zmz17toSGhkpaWprk5OSIr6+vZGVlSXNzszQ1NQ15Tm5ursyZM0cWLVqkGt+3b5/ExsaKv7+/PHnyRNLS0sRsNsulS5dGPrl/yJF9TUpKkpkzZ4pOp5OXL19KWlqaPH/+XEpKSmy+tzMZrTXb2toqx48fl127dqnGuWYHWNNX5qzt8zt37pwkJyeLXq8XT09PcXd3l0uXLsnixYuHrGfO9rFHX5mzo7NmmbN9RtpX5qxzcelP/o4ePfrbL6v3v549ezaie7i5ual+BmAxNtjgmqHqrbnOvzSc3g53fhqNRoqKiqS2tlYCAgJk4sSJ8uDBA1mzZo14eHhY1Hd2dsqVK1eGfDd6//79YjAYJDo6Wnbu3CnZ2dmSm5srra2tI+yAY4yFviYnJ0tCQoJERkbKpk2bpLCwUEpLS6Wqqkqp4ZpVG+6abW9vl7Vr18rcuXMlPT1ddYxrdsBw+/qn63LNWjp37pxUVFRIcXGxVFZWyunTp2XPnj1SWlpqUcucHWCPvjJnHb9mmbMD7NnXP13XGdfseOTSn/ylpqZaPD1rsBkzZth0bZ1OJyJ973RMmzZNGW9paVE+DdTpdNLd3S2fP39WvVvS0tKivHOq0+nk48ePFtf/9OmTxaeKY4m1vX3x4oVN81uwYIHU1NRIW1ubdHd3y5QpUyQuLk4WLlxoUVtYWCjfv3+XLVu2/PX3jo+PFxGR+vp6CQwM/Gv9aBtLfe0XGxsrGo1G6urqJDY2lmv2N6ztbUdHh6xevVomTZok169fF41G88ffiWv2z31lztrW287OTjl06JBcv35d1q5dKyIi0dHRUlNTI6dOnZKEhARVPXN2gD372o8528devWXOqo20r+M5Z8elUf2G4Tgw3Ae+nDx5Uhnr6uoa8oEv+fn5Ss2HDx+G/ILs48ePlZqKiopx8wVZe82vtrYW7u7uuHfvnsUxg8Fg8SSv37l58yZEBI2NjVbfeywajb72M5lMEBE8fPjQrvceqxzZ27a2NsTHx8NgMODbt29WXYdrVm1wX5mzts2vra0NIoLbt2+rxlNSUrBixQqLeuZsH3v3tR9z1n69Zc7av6/MWefCzZ+VGhsbUV1djYyMDEyaNAnV1dWorq5WPfo3PDwc165dU37OzMyEVqvFtWvXYDKZsHnz5iH/1YNer0dpaSmqqqqwfPnyIR+NGx0djfLycpSXlyMqKmpcPRrXmvkN7m1BQQGMRiPevn2LGzduIDQ0FImJiRbXrqurg5ubG+7cuWNxrKysDFlZWaiurkZDQwPy8/MRHByM9evX23+S/4Aj+lpfX4+MjAw8ffoUZrMZt27dwuzZszF//nyu2RH2tr29HXFxcYiKikJ9fb3qEeP9veWatS0LmLO29dZgMCAiIgJGoxENDQ3Iy8uDj48Pzp8/rzqPOWvfvjJn+ziit8xZx2UBc9Z5cPNnpa1bt0JELF5Go1GpERHk5eUpP/f29iI9PR06nQ7e3t5YunQpTCaT6rqdnZ1ITU1FQEAAJkyYgHXr1uHdu3eqmtbWViQlJcHPzw9+fn5ISkrC58+fHTjb0WXN/Ab39uzZs9Dr9dBoNAgJCcHhw4fR1dVlce20tDTo9Xr8+vXL4lhlZSXi4uKg1Wrh4+OD8PBwpKenW/1O4FjniL6+e/cOS5cuRUBAALy8vBAWFoa9e/eitbV12Pd2Zo7ordFoHDJjRARmsxkA1yxgWxYwZ23rbVNTE7Zt24bg4GBlvZ0+fRq9vb2q85iz9u0rc7aPI3rLnHVcFjBnnYcbANjjz0eJiIiIiIho7HLpp30SERERERG5Cm7+iIiIiIiIXAA3f0RERERERC6Amz8iIiIiIiIXwM0fERERERGRC+Dmj4iIiIiIyAVw80dEREREROQCuPkjIiIiIiJyAdz8ERERERERuQBu/oiIiIiIiFwAN39EREREREQugJs/IiIiIiIiF/A/LzOXiH1nvrQAAAAASUVORK5CYII=",
      "text/plain": [
       "<Figure size 1000x1000 with 1 Axes>"
      ]
     },
     "metadata": {},
     "output_type": "display_data"
    }
   ],
   "source": [
    "words = ['movie', 'book', 'mysterious', 'story', 'fascinating', 'good', 'interesting', 'large', 'massive', 'huge']\n",
    "\n",
    "plot_embeddings(M_reduced_normalized, word2ind, words)"
   ]
  },
  {
   "cell_type": "markdown",
   "metadata": {},
   "source": [
    "**Verify that your figure matches \"question_2.1.png\" in the assignment zip. If not, use the figure in \"question_2.1.png\" (and the figure in \"question_1.5.png\", if applicable) to answer the next two questions.**"
   ]
  },
  {
   "cell_type": "markdown",
   "metadata": {
    "id": "eOnrMZkzSSuP"
   },
   "source": [
    "a. What is one way the plot is different from the one generated earlier from the co-occurrence matrix? What is one way it's similar?"
   ]
  },
  {
   "cell_type": "markdown",
   "metadata": {
    "id": "5KC4PTQoSSuQ"
   },
   "source": [
    "#### <font color=\"red\">Write your answer here.</font>"
   ]
  },
  {
   "cell_type": "markdown",
   "metadata": {
    "id": "bNDY5puZSSuQ"
   },
   "source": [
    "b. Why might the GloVe plot (question_2.1.png) differ from the plot generated earlier from the co-occurrence matrix (question_1.5.png)?"
   ]
  },
  {
   "cell_type": "markdown",
   "metadata": {
    "id": "o-cWAvi8SSuR"
   },
   "source": [
    "#### <font color=\"red\">Write your answer here.</font>"
   ]
  },
  {
   "cell_type": "markdown",
   "metadata": {
    "id": "nA8oIbjjSSuS"
   },
   "source": [
    "### Cosine Similarity\n",
    "Now that we have word vectors, we need a way to quantify the similarity between individual words, according to these vectors. One such metric is cosine-similarity. We will be using this to find words that are \"close\" and \"far\" from one another.\n",
    "\n",
    "We can think of n-dimensional vectors as points in n-dimensional space. If we take this perspective [L1](http://mathworld.wolfram.com/L1-Norm.html) and [L2](http://mathworld.wolfram.com/L2-Norm.html) Distances help quantify the amount of space \"we must travel\" to get between these two points. Another approach is to examine the angle between two vectors. From trigonometry we know that:\n",
    "\n",
    "<img src=\"./imgs/inner_product.png\" width=20% style=\"float: center;\"></img>\n",
    "\n",
    "Instead of computing the actual angle, we can leave the similarity in terms of $similarity = cos(\\Theta)$. Formally the [Cosine Similarity](https://en.wikipedia.org/wiki/Cosine_similarity) $s$ between two vectors $p$ and $q$ is defined as:\n",
    "\n",
    "$$s = \\frac{p \\cdot q}{||p|| ||q||}, \\textrm{ where } s \\in [-1, 1] $$ "
   ]
  },
  {
   "cell_type": "markdown",
   "metadata": {
    "id": "sFfCOLUsSSuS"
   },
   "source": [
    "### Question 2.2: Words with Multiple Meanings (1.5 points) [code + written] \n",
    "Polysemes and homonyms are words that have more than one meaning (see this [wiki page](https://en.wikipedia.org/wiki/Polysemy) to learn more about the difference between polysemes and homonyms ). Find a word with *at least two different meanings* such that the top-10 most similar words (according to cosine similarity) contain related words from *both* meanings. For example, \"leaves\" has both \"go_away\" and \"a_structure_of_a_plant\" meaning in the top 10, and \"scoop\" has both \"handed_waffle_cone\" and \"lowdown\". You will probably need to try several polysemous or homonymic words before you find one. \n",
    "\n",
    "Please state the word you discover and the multiple meanings that occur in the top 10. Why do you think many of the polysemous or homonymic words you tried didn't work (i.e. the top-10 most similar words only contain **one** of the meanings of the words)?\n",
    "\n",
    "**Note**: You should use the `wv_from_bin.most_similar(word)` function to get the top 10 most similar words. This function ranks all other words in the vocabulary with respect to their cosine similarity to the given word. For further assistance, please check the __[GenSim documentation](https://radimrehurek.com/gensim/models/keyedvectors.html#gensim.models.keyedvectors.FastTextKeyedVectors.most_similar)__."
   ]
  },
  {
   "cell_type": "code",
   "execution_count": 92,
   "metadata": {
    "colab": {
     "base_uri": "https://localhost:8080/"
    },
    "id": "ZAr09U-xSSuT",
    "outputId": "da8adff7-c61e-43a0-8f4b-66084b4a66b8"
   },
   "outputs": [
    {
     "data": {
      "text/plain": [
       "[('queen', 0.6978678703308105),\n",
       " ('princess', 0.6081745028495789),\n",
       " ('monarch', 0.5889754891395569),\n",
       " ('throne', 0.5775108933448792),\n",
       " ('prince', 0.5750998258590698),\n",
       " ('elizabeth', 0.546359658241272),\n",
       " ('daughter', 0.5399125814437866),\n",
       " ('kingdom', 0.5318052768707275),\n",
       " ('mother', 0.5168544054031372),\n",
       " ('crown', 0.5164472460746765)]"
      ]
     },
     "execution_count": 92,
     "metadata": {},
     "output_type": "execute_result"
    }
   ],
   "source": [
    "wv_from_bin.most_similar(positive=['woman', 'king'], negative=['man'])"
   ]
  },
  {
   "cell_type": "markdown",
   "metadata": {
    "id": "VdQ018tjSSuT"
   },
   "source": [
    "#### <font color=\"red\">Write your answer here.</font>"
   ]
  },
  {
   "cell_type": "markdown",
   "metadata": {
    "id": "VfeW-eK9SSuU"
   },
   "source": [
    "### Question 2.3: Synonyms & Antonyms (2 points) [code + written] \n",
    "\n",
    "When considering Cosine Similarity, it's often more convenient to think of Cosine Distance, which is simply 1 - Cosine Similarity.\n",
    "\n",
    "Find three words $(w_1,w_2,w_3)$ where $w_1$ and $w_2$ are synonyms（同义词） and $w_1$ and $w_3$ are antonyms（反义词）, but Cosine Distance $(w_1,w_3) <$ Cosine Distance $(w_1,w_2)$. \n",
    "\n",
    "As an example, $w_1$=\"happy\" is closer to $w_3$=\"sad\" than to $w_2$=\"cheerful\". Please find a different example that satisfies the above. Once you have found your example, please give a possible explanation for why this counter-intuitive result may have happened.\n",
    "\n",
    "You should use the the `wv_from_bin.distance(w1, w2)` function here in order to compute the cosine distance between two words. Please see the __[GenSim documentation](https://radimrehurek.com/gensim/models/keyedvectors.html#gensim.models.keyedvectors.FastTextKeyedVectors.distance)__ for further assistance."
   ]
  },
  {
   "cell_type": "code",
   "execution_count": 93,
   "metadata": {
    "colab": {
     "base_uri": "https://localhost:8080/"
    },
    "id": "bwlpPjpHSSuV",
    "outputId": "8c983677-b3d1-4423-d31c-da566cb522a5"
   },
   "outputs": [
    {
     "name": "stdout",
     "output_type": "stream",
     "text": [
      "Cosine Distance between hot and warm: 0.41116732358932495\n",
      "Cosine Distance between hot and cold: 0.40621882677078247\n"
     ]
    }
   ],
   "source": [
    "w1 = \"hot\"      # 选择的第一个单词\n",
    "w2 = \"warm\"     # 与w1的同义词\n",
    "w3 = \"cold\"     # 与w1的反义词\n",
    "\n",
    "distance_w1_w2 = wv_from_bin.distance(w1, w2)\n",
    "distance_w1_w3 = wv_from_bin.distance(w1, w3)\n",
    "\n",
    "print(f\"Cosine Distance between {w1} and {w2}: {distance_w1_w2}\")\n",
    "print(f\"Cosine Distance between {w1} and {w3}: {distance_w1_w3}\")\n"
   ]
  },
  {
   "cell_type": "markdown",
   "metadata": {
    "id": "ZxIDq26zSSuW"
   },
   "source": [
    "### Question 2.4: Analogies with Word Vectors [written] (1.5 points)\n",
    "Word vectors have been shown to *sometimes* exhibit the ability to solve analogies. \n",
    "\n",
    "As an example, for the analogy \"man : grandfather :: woman : x\" (read: man is to grandfather as woman is to x), what is x?\n",
    "\n",
    "In the cell below, we show you how to use word vectors to find x using the `most_similar` function from the __[GenSim documentation](https://radimrehurek.com/gensim/models/keyedvectors.html#gensim.models.keyedvectors.KeyedVectors.most_similar)__. The function finds words that are most similar to the words in the `positive` list and most dissimilar from the words in the `negative` list (while omitting the input words, which are often the most similar; see [this paper](https://www.aclweb.org/anthology/N18-2039.pdf)). The answer to the analogy will have the highest cosine similarity (largest returned numerical value)."
   ]
  },
  {
   "cell_type": "code",
   "execution_count": 94,
   "metadata": {
    "colab": {
     "base_uri": "https://localhost:8080/"
    },
    "id": "u0pC7H4VSSuY",
    "outputId": "a2e3a0c1-2621-4def-f00b-f3de583f86bf"
   },
   "outputs": [
    {
     "name": "stdout",
     "output_type": "stream",
     "text": [
      "[('grandmother', 0.7608445286750793),\n",
      " ('granddaughter', 0.7200808525085449),\n",
      " ('daughter', 0.7168302536010742),\n",
      " ('mother', 0.7151536345481873),\n",
      " ('niece', 0.7005682587623596),\n",
      " ('father', 0.6659888029098511),\n",
      " ('aunt', 0.6623408794403076),\n",
      " ('grandson', 0.6618767380714417),\n",
      " ('grandparents', 0.6446609497070312),\n",
      " ('wife', 0.6445354223251343)]\n"
     ]
    }
   ],
   "source": [
    "# Run this cell to answer the analogy -- man : grandfather :: woman : x\n",
    "pprint.pprint(wv_from_bin.most_similar(positive=['woman', 'grandfather'], negative=['man']))"
   ]
  },
  {
   "cell_type": "markdown",
   "metadata": {
    "id": "XVv8I9WwSSuZ"
   },
   "source": [
    "Let $m$, $g$, $w$, and $x$ denote the word vectors for `man`, `grandfather`, `woman`, and the answer, respectively. Using **only** vectors $m$, $g$, $w$, and the vector arithmetic operators $+$ and $-$ in your answer, what is the expression in which we are maximizing cosine similarity with $x$?\n",
    "\n",
    "Hint: Recall that word vectors are simply multi-dimensional vectors that represent a word. It might help to draw out a 2D example using arbitrary locations of each vector. Where would `man` and `woman` lie in the coordinate plane relative to `grandfather` and the answer?"
   ]
  },
  {
   "cell_type": "markdown",
   "metadata": {
    "id": "KlUKBqtHSSuZ"
   },
   "source": [
    "#### <font color=\"red\">x = w + (g - m)</font>"
   ]
  },
  {
   "cell_type": "markdown",
   "metadata": {
    "id": "2rRgMca9SSua"
   },
   "source": [
    "### Question 2.5: Finding Analogies [code + written]  (1.5 points)\n",
    "a. For the previous example, it's clear that \"grandmother\" completes the analogy. But give an intuitive explanation as to why the `most_similar` function gives us words like \"granddaughter\", \"daughter\", or \"mother?"
   ]
  },
  {
   "cell_type": "markdown",
   "metadata": {
    "id": "WgYQXazQSSua"
   },
   "source": [
    "#### <font color=\"red\">Write your answer here.</font>"
   ]
  },
  {
   "cell_type": "markdown",
   "metadata": {
    "id": "p9aAUXEISSub"
   },
   "source": [
    "b. Find an example of analogy that holds according to these vectors (i.e. the intended word is ranked top). In your solution please state the full analogy in the form x:y :: a:b. If you believe the analogy is complicated, explain why the analogy holds in one or two sentences.\n",
    "\n",
    "**Note**: You may have to try many analogies to find one that works!"
   ]
  },
  {
   "cell_type": "code",
   "execution_count": 96,
   "metadata": {
    "id": "CRvYK2xifpq7"
   },
   "outputs": [],
   "source": [
    "x,y,a,b =(\"man\",\"prince\",\"woman\",\"princess\")\n",
    "\n",
    "# Test the solution\n",
    "assert wv_from_bin.most_similar(positive=[a, y], negative=[x])[0][0] == b"
   ]
  },
  {
   "cell_type": "markdown",
   "metadata": {
    "id": "K3QlPqAwSSub"
   },
   "source": [
    "#### <font color=\"red\">Write your answer here.</font>"
   ]
  },
  {
   "cell_type": "markdown",
   "metadata": {
    "id": "SwgcEywwSSuc"
   },
   "source": [
    "### Question 2.6: Incorrect Analogy [code + written] (1.5 points)\n",
    "a. Below, we expect to see the intended analogy \"hand : glove :: foot : **sock**\", but we see an unexpected result instead. Give a potential reason as to why this particular analogy turned out the way it did?"
   ]
  },
  {
   "cell_type": "code",
   "execution_count": 98,
   "metadata": {
    "colab": {
     "base_uri": "https://localhost:8080/"
    },
    "id": "m-ykWoJoSSuc",
    "outputId": "60fa3812-3e62-429e-c309-349463c75f9e"
   },
   "outputs": [
    {
     "name": "stdout",
     "output_type": "stream",
     "text": [
      "[('45,000-square', 0.4922032058238983),\n",
      " ('15,000-square', 0.4649604558944702),\n",
      " ('10,000-square', 0.45447564125061035),\n",
      " ('6,000-square', 0.44975772500038147),\n",
      " ('3,500-square', 0.4441334009170532),\n",
      " ('700-square', 0.44257497787475586),\n",
      " ('50,000-square', 0.43563973903656006),\n",
      " ('3,000-square', 0.43486514687538147),\n",
      " ('30,000-square', 0.4330596923828125),\n",
      " ('footed', 0.43236875534057617)]\n"
     ]
    }
   ],
   "source": [
    "pprint.pprint(wv_from_bin.most_similar(positive=['foot', 'glove'], negative=['hand']))"
   ]
  },
  {
   "cell_type": "markdown",
   "metadata": {
    "id": "zn4ruS8MSSud"
   },
   "source": [
    "#### <font color=\"red\">猜测可能是语料库中训练数据分布原因</font>"
   ]
  },
  {
   "cell_type": "markdown",
   "metadata": {
    "id": "D1gHyZt0SSud"
   },
   "source": [
    "b. Find another example of analogy that does *not* hold according to these vectors. In your solution, state the intended analogy in the form x:y :: a:b, and state the **incorrect** value of b according to the word vectors (in the previous example, this would be **'45,000-square'**)."
   ]
  },
  {
   "cell_type": "code",
   "execution_count": 100,
   "metadata": {
    "id": "ms-DTC8_ftiA"
   },
   "outputs": [
    {
     "name": "stdout",
     "output_type": "stream",
     "text": [
      "[('boots', 0.5161291360855103),\n",
      " ('trick', 0.4943603277206421),\n",
      " ('broad-brimmed', 0.4470410943031311),\n",
      " ('4,500-square', 0.4443376362323761),\n",
      " ('hats', 0.4376249611377716),\n",
      " ('porkpie', 0.42694759368896484),\n",
      " ('3,500-square', 0.4144499599933624),\n",
      " ('dhoti', 0.41245803236961365),\n",
      " ('15,000-square', 0.40745529532432556),\n",
      " ('40,000-square', 0.4055319130420685)]\n"
     ]
    }
   ],
   "source": [
    "x, y, a, b = (\"head\", \"hat\", \"foot\", \"shoes\")\n",
    "\n",
    "pprint.pprint(wv_from_bin.most_similar(positive=[a, y], negative=[x]))\n",
    "assert wv_from_bin.most_similar(positive=[a, y], negative=[x])[0][0] != b"
   ]
  },
  {
   "cell_type": "markdown",
   "metadata": {
    "id": "yvlycXN-SSuf"
   },
   "source": [
    "### Question 2.7: Guided Analysis of Bias in Word Vectors [written] (1 point)\n",
    "\n",
    "It's important to **be cognizant of** the biases (gender, race, sexual orientation etc.) implicit in our word embeddings. Bias can be dangerous because it can reinforce stereotypes through applications that employ these models.\n",
    "\n",
    "Run the cell below, to examine (a) which terms are most similar to \"man\" and \"profession\" and most dissimilar to \"woman\" and (b) which terms are most similar to \"woman\" and \"profession\" and most dissimilar to \"man\". Point out the difference between the list of female-associated words and the list of male-associated words, and explain how it is reflecting gender bias."
   ]
  },
  {
   "cell_type": "code",
   "execution_count": 101,
   "metadata": {
    "colab": {
     "base_uri": "https://localhost:8080/"
    },
    "id": "XggWA4MhSSuf",
    "outputId": "534a694b-f4fa-479e-9e7c-12b17db3abb8"
   },
   "outputs": [
    {
     "name": "stdout",
     "output_type": "stream",
     "text": [
      "[('reputation', 0.5250177383422852),\n",
      " ('professions', 0.5178037881851196),\n",
      " ('skill', 0.49046966433525085),\n",
      " ('skills', 0.4900550842285156),\n",
      " ('ethic', 0.4897659420967102),\n",
      " ('business', 0.4875851273536682),\n",
      " ('respected', 0.485920250415802),\n",
      " ('practice', 0.482104629278183),\n",
      " ('regarded', 0.4778572618961334),\n",
      " ('life', 0.4760662019252777)]\n",
      "\n",
      "[('professions', 0.5957458019256592),\n",
      " ('practitioner', 0.4988412857055664),\n",
      " ('teaching', 0.48292145133018494),\n",
      " ('nursing', 0.48211807012557983),\n",
      " ('vocation', 0.4788965880870819),\n",
      " ('teacher', 0.47160351276397705),\n",
      " ('practicing', 0.46937811374664307),\n",
      " ('educator', 0.46524322032928467),\n",
      " ('physicians', 0.4628995656967163),\n",
      " ('professionals', 0.4601393938064575)]\n"
     ]
    }
   ],
   "source": [
    "# Run this cell\n",
    "# Here `positive` indicates the list of words to be similar to and `negative` indicates the list of words to be\n",
    "# most dissimilar from.\n",
    "\n",
    "pprint.pprint(wv_from_bin.most_similar(positive=['man', 'profession'], negative=['woman']))\n",
    "print()\n",
    "pprint.pprint(wv_from_bin.most_similar(positive=['woman', 'profession'], negative=['man']))"
   ]
  },
  {
   "cell_type": "markdown",
   "metadata": {
    "id": "LxJmnS6lSSui"
   },
   "source": [
    "### Question 2.8: Independent Analysis of Bias in Word Vectors [code + written]  (1 point)\n",
    "\n",
    "Use the `most_similar` function to find another pair of analogies that demonstrates some bias is exhibited by the vectors. Please briefly explain the example of bias that you discover."
   ]
  },
  {
   "cell_type": "code",
   "execution_count": 115,
   "metadata": {
    "colab": {
     "base_uri": "https://localhost:8080/"
    },
    "id": "PZoDheIfSSui",
    "outputId": "f45fef83-ee36-4ef1-b970-775c3b40c515"
   },
   "outputs": [
    {
     "name": "stdout",
     "output_type": "stream",
     "text": [
      "[('quiet', 0.5492072701454163),\n",
      " ('anxious', 0.5249894857406616),\n",
      " ('jittery', 0.47410616278648376),\n",
      " ('reassure', 0.47237810492515564),\n",
      " ('uneasy', 0.4632669687271118),\n",
      " ('assure', 0.45528510212898254),\n",
      " ('tranquil', 0.45504459738731384),\n",
      " ('serene', 0.4506143629550934),\n",
      " ('soothing', 0.4488314092159271),\n",
      " ('fragile', 0.4473873972892761)]\n",
      "[('quiet', 0.5881274938583374),\n",
      " ('confidence', 0.4942503273487091),\n",
      " ('atmosphere', 0.49277982115745544),\n",
      " ('situation', 0.48912662267684937),\n",
      " ('demeanor', 0.4873734414577484),\n",
      " ('tense', 0.48688071966171265),\n",
      " ('peaceful', 0.477820485830307),\n",
      " ('cool', 0.4775956869125366),\n",
      " ('seemed', 0.4761221706867218),\n",
      " ('confident', 0.4699929356575012)]\n"
     ]
    }
   ],
   "source": [
    "pprint.pprint(wv_from_bin.most_similar(positive=[\"woman\",\"calm\"],negative=[\"man\"]))\n",
    "pprint.pprint(wv_from_bin.most_similar(positive=[\"man\",\"calm\"],negative=[\"woman\"]))\n",
    "\n"
   ]
  },
  {
   "cell_type": "markdown",
   "metadata": {
    "id": "eK2XVWzmSSuk"
   },
   "source": [
    "### Question 2.9: Thinking About Bias [written] (2 points)\n",
    "\n",
    "a. Give one explanation of how bias gets into the word vectors. Briefly describe a real-world example that demonstrates this source of bias. Your real-world example should be focused on word vectors, as opposed to bias in other AI systems (e.g., ChatGPT)."
   ]
  },
  {
   "cell_type": "markdown",
   "metadata": {
    "id": "19pM85fCSSuk"
   },
   "source": [
    "#### <font color=\"green\" face=\"宋体\" size=3.5>词向量中的偏见主要源于训练数据本身。在训练词向量的过程中，模型使用大量文本数据（如新闻文章、社交媒体内容和其他公开文本），这些数据反映了人类在不同时间和地点的语言使用习惯和文化观点。如果这些文本数据中包含刻板印象、性别歧视、种族歧视或其他社会不平等的表现，模型就会学习并记忆这些偏见，最终导致生成的词向量也呈现出类似的偏见</font>\n"
   ]
  },
  {
   "cell_type": "markdown",
   "metadata": {
    "id": "ILYqJZ7ASSul"
   },
   "source": [
    "b. What is one method you can use to mitigate bias exhibited by word vectors? Briefly describe a real-world example that demonstrates this method."
   ]
  },
  {
   "cell_type": "markdown",
   "metadata": {
    "id": "dnJaAB7mSSul"
   },
   "source": [
    "\n",
    "#### <font color=\"green\" face=\"宋体\" size=3.5>Write your answer here.</font>"
   ]
  },
  {
   "cell_type": "markdown",
   "metadata": {
    "id": "dzh3eEmZSSum"
   },
   "source": [
    "# <font color=\"blue\"> Submission Instructions</font>\n",
    "\n",
    "1. Click the Save button at the top of the Jupyter Notebook.\n",
    "2. Select Cell -> All Output -> Clear. This will clear all the outputs from all cells (but will keep the content of all cells). \n",
    "2. Select Cell -> Run All. This will run all the cells in order, and will take several minutes.\n",
    "3. Once you've rerun everything, select File -> Download as -> PDF via LaTeX (If you have trouble using \"PDF via LaTex\", you can also save the webpage as pdf. <font color='blue'> Make sure all your solutions especially the coding parts are displayed in the pdf</font>, it's okay if the provided codes get cut off because lines are not wrapped in code cells).\n",
    "4. Look at the PDF file and make sure all your solutions are there, displayed correctly. The PDF is the only thing your graders will see!\n",
    "5. Submit your PDF on Gradescope."
   ]
  }
 ],
 "metadata": {
  "anaconda-cloud": {},
  "colab": {
   "provenance": []
  },
  "kernelspec": {
   "display_name": "Python 3 (ipykernel)",
   "language": "python",
   "name": "python3"
  },
  "language_info": {
   "codemirror_mode": {
    "name": "ipython",
    "version": 3
   },
   "file_extension": ".py",
   "mimetype": "text/x-python",
   "name": "python",
   "nbconvert_exporter": "python",
   "pygments_lexer": "ipython3",
<<<<<<< HEAD
   "version": "3.12.4"
=======
   "version": "3.11.9"
>>>>>>> d6e8e0f051804e1e39ed8606d1224fa7a47ec846
  }
 },
 "nbformat": 4,
 "nbformat_minor": 4
}
